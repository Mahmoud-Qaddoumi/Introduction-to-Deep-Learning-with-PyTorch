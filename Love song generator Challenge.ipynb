{
  "nbformat": 4,
  "nbformat_minor": 0,
  "metadata": {
    "colab": {
      "name": "Love song generator Challenge.ipynb",
      "provenance": [],
      "collapsed_sections": [],
      "authorship_tag": "ABX9TyPUYsja17kjt9hTsB1rZ41e",
      "include_colab_link": true
    },
    "kernelspec": {
      "name": "python3",
      "display_name": "Python 3"
    },
    "accelerator": "GPU"
  },
  "cells": [
    {
      "cell_type": "markdown",
      "metadata": {
        "id": "view-in-github",
        "colab_type": "text"
      },
      "source": [
        "<a href=\"https://colab.research.google.com/github/wafa-b/Introduction-to-Deep-Learning-with-PyTorch/blob/master/Love%20song%20generator%20Challenge.ipynb\" target=\"_parent\"><img src=\"https://colab.research.google.com/assets/colab-badge.svg\" alt=\"Open In Colab\"/></a>"
      ]
    },
    {
      "cell_type": "code",
      "metadata": {
        "id": "L5ge79kLD6pW",
        "colab_type": "code",
        "outputId": "c9a1b5ad-dcf8-4be3-aeb9-79c4a5b91ffe",
        "colab": {
          "base_uri": "https://localhost:8080/",
          "height": 122
        }
      },
      "source": [
        "from google.colab import drive\n",
        "drive.mount('/content/drive/')"
      ],
      "execution_count": 2,
      "outputs": [
        {
          "output_type": "stream",
          "text": [
            "Go to this URL in a browser: https://accounts.google.com/o/oauth2/auth?client_id=947318989803-6bn6qk8qdgf4n4g3pfee6491hc0brc4i.apps.googleusercontent.com&redirect_uri=urn%3aietf%3awg%3aoauth%3a2.0%3aoob&response_type=code&scope=email%20https%3a%2f%2fwww.googleapis.com%2fauth%2fdocs.test%20https%3a%2f%2fwww.googleapis.com%2fauth%2fdrive%20https%3a%2f%2fwww.googleapis.com%2fauth%2fdrive.photos.readonly%20https%3a%2f%2fwww.googleapis.com%2fauth%2fpeopleapi.readonly\n",
            "\n",
            "Enter your authorization code:\n",
            "··········\n",
            "Mounted at /content/drive/\n"
          ],
          "name": "stdout"
        }
      ]
    },
    {
      "cell_type": "code",
      "metadata": {
        "id": "Ycqb-j0jEaow",
        "colab_type": "code",
        "colab": {}
      },
      "source": [
        "import os\n",
        "os.chdir(\"/content/drive/My Drive/\")"
      ],
      "execution_count": 0,
      "outputs": []
    },
    {
      "cell_type": "code",
      "metadata": {
        "id": "ALKAL8gbFLPW",
        "colab_type": "code",
        "colab": {}
      },
      "source": [
        "#Import Libraries\n",
        "import torch\n",
        "import numpy as np\n",
        "from torch import nn\n",
        "import torch.nn.functional as F"
      ],
      "execution_count": 0,
      "outputs": []
    },
    {
      "cell_type": "code",
      "metadata": {
        "id": "1tXalP2VFQZt",
        "colab_type": "code",
        "colab": {}
      },
      "source": [
        "#Open file & read data as text\n",
        "with open('data/love songs.txt','r')as f:\n",
        "    text=f.read()"
      ],
      "execution_count": 0,
      "outputs": []
    },
    {
      "cell_type": "code",
      "metadata": {
        "id": "rnx1WVRhFckT",
        "colab_type": "code",
        "outputId": "98dbf31a-df95-46d0-c81c-be9aefcc251e",
        "colab": {
          "base_uri": "https://localhost:8080/",
          "height": 34
        }
      },
      "source": [
        "#Check out the first 100 characters\n",
        "text[:100]"
      ],
      "execution_count": 6,
      "outputs": [
        {
          "output_type": "execute_result",
          "data": {
            "text/plain": [
              "\"Doesn't take much to make me happy\\nAnd make me smile with glee \\nNever never will I feel discouraged \""
            ]
          },
          "metadata": {
            "tags": []
          },
          "execution_count": 6
        }
      ]
    },
    {
      "cell_type": "code",
      "metadata": {
        "id": "eYuzK19bFhX7",
        "colab_type": "code",
        "colab": {}
      },
      "source": [
        "#Encode text & map each char to int and vice versa\n",
        "#Create 2 dictionaries\n",
        "#1. int->char\n",
        "#2. char->int\n",
        "chars=tuple(set(text))\n",
        "int2char=dict(enumerate(chars))\n",
        "char2int={ch:ii for ii,ch in int2char.items()}\n",
        "#Encode text\n",
        "encoded=np.array([char2int[ch] for ch in text])"
      ],
      "execution_count": 0,
      "outputs": []
    },
    {
      "cell_type": "code",
      "metadata": {
        "id": "g_CYfsoCGIpR",
        "colab_type": "code",
        "outputId": "1f3dcfc7-e660-4254-8e21-b45511dcc667",
        "colab": {
          "base_uri": "https://localhost:8080/",
          "height": 119
        }
      },
      "source": [
        "#Characters encoded as integers\n",
        "encoded[:100]"
      ],
      "execution_count": 8,
      "outputs": [
        {
          "output_type": "execute_result",
          "data": {
            "text/plain": [
              "array([ 8,  7, 63, 55, 77,  9, 78,  1, 78, 49, 59, 63,  1, 56, 79, 29, 74,\n",
              "        1, 78,  7,  1, 56, 49, 59, 63,  1, 56, 63,  1, 74, 49, 21, 21, 25,\n",
              "        6, 75, 77,  3,  1, 56, 49, 59, 63,  1, 56, 63,  1, 55, 56, 44, 91,\n",
              "       63,  1, 19, 44, 78, 74,  1, 80, 91, 63, 63,  1,  6, 87, 63, 65, 63,\n",
              "       17,  1, 77, 63, 65, 63, 17,  1, 19, 44, 91, 91,  1, 92,  1, 57, 63,\n",
              "       63, 91,  1,  3, 44, 55, 29,  7, 79, 17, 49, 80, 63,  3,  1])"
            ]
          },
          "metadata": {
            "tags": []
          },
          "execution_count": 8
        }
      ]
    },
    {
      "cell_type": "code",
      "metadata": {
        "id": "coj23hIcGL0g",
        "colab_type": "code",
        "colab": {}
      },
      "source": [
        "#Pre-processing the data\n",
        "#LSTM expects input (one-hot encoded) meaning that each character is converted into an integer(via our created dictionary). \n",
        "#then converted into a column vector where only it's corresponding integer index \n",
        "#will have the value of 1 and the rest of the vector will be filled with 0's.\n",
        "def one_hot_encode(arr,n_labels):\n",
        "    #Define encoded array\n",
        "    one_hot=np.zeros((arr.size,n_labels),dtype=np.float32)\n",
        "    #Fill approprite elements with ones\n",
        "    one_hot[np.arange(one_hot.shape[0]),arr.flatten()]=1\n",
        "    #Reshape it to get back to original array\n",
        "    one_hot=one_hot.reshape((*arr.shape,n_labels))\n",
        "    return one_hot"
      ],
      "execution_count": 0,
      "outputs": []
    },
    {
      "cell_type": "code",
      "metadata": {
        "id": "VSNFoYpQafQu",
        "colab_type": "code",
        "colab": {}
      },
      "source": [
        "#create mini-batches for training\n",
        "def get_batches(arr,batch_size,seq_length):\n",
        "    '''Create a generator that returns batches of size\n",
        "       batch_size x seq_length from arr. \n",
        "       Arguments\n",
        "       ---------\n",
        "       arr: Array you want to make batches from\n",
        "       batch_size: Batch size, the number of sequences per batch\n",
        "       seq_length: Number of encoded chars in a sequence\n",
        "    '''\n",
        "    batch_size_total=batch_size*seq_length\n",
        "    #Get the number of batches we can make\n",
        "    n_batches= len(arr)//batch_size_total \n",
        "    #Keep only enough characters to make full batches\n",
        "    arr=arr[:n_batches*batch_size_total] \n",
        "    #Reshape into batch_size rows\n",
        "    arr=arr.reshape((batch_size,-1))\n",
        "    #Iterate over the batches using a window of size seq_length\n",
        "    for n in range(0,arr.shape[1],seq_length):\n",
        "        #The features\n",
        "        x=arr[:,n:n+seq_length]        \n",
        "        #The targets,shifted by one\n",
        "        y=np.zeros_like(x)\n",
        "        try:\n",
        "            y[:,:-1],y[:,-1]=x[:,1:],arr[:,n+seq_length]\n",
        "        except IndexError:\n",
        "            y[:,:-1],y[:,-1]=x[:,1:],arr[:,0]\n",
        "        yield x,y"
      ],
      "execution_count": 0,
      "outputs": []
    },
    {
      "cell_type": "code",
      "metadata": {
        "id": "J3WDBfRzaqyx",
        "colab_type": "code",
        "outputId": "294a0d8b-5257-45a2-8318-573174b9debf",
        "colab": {
          "base_uri": "https://localhost:8080/",
          "height": 34
        }
      },
      "source": [
        "#Check if GPU is available\n",
        "train_on_gpu=torch.cuda.is_available()\n",
        "if(train_on_gpu):\n",
        "    print('Training on GPU!')\n",
        "else: \n",
        "    print('No GPU available, training on CPU; consider making n_epochs very small.')"
      ],
      "execution_count": 11,
      "outputs": [
        {
          "output_type": "stream",
          "text": [
            "Training on GPU!\n"
          ],
          "name": "stdout"
        }
      ]
    },
    {
      "cell_type": "code",
      "metadata": {
        "id": "e-MWr4Bla3kR",
        "colab_type": "code",
        "colab": {}
      },
      "source": [
        "#Define our network\n",
        "class CharRNN(nn.Module):\n",
        "    \n",
        "    def __init__(self,tokens,n_hidden=256,n_layers=2,drop_prob=0.5, lr=0.001):\n",
        "        super().__init__()\n",
        "        self.drop_prob=drop_prob\n",
        "        self.n_layers=n_layers\n",
        "        self.n_hidden=n_hidden\n",
        "        self.lr=lr\n",
        "        \n",
        "        #Creating character dictionaries\n",
        "        self.chars=tokens\n",
        "        self.int2char=dict(enumerate(self.chars))\n",
        "        self.char2int={ch:ii for ii,ch in self.int2char.items()}\n",
        "        \n",
        "        #Define the layers of the model\n",
        "        #Dfine LSTM\n",
        "        self.lstm=nn.LSTM(len(self.chars),n_hidden,n_layers,dropout=drop_prob, batch_first=True)\n",
        "        #Define dropout layer\n",
        "        self.dropout=nn.Dropout(drop_prob)\n",
        "        #Define final,fully-connected output layer\n",
        "        self.fc=nn.Linear(n_hidden,len(self.chars))\n",
        "      \n",
        "    def forward(self, x, hidden):\n",
        "        ''' Forward pass through the network. \n",
        "            These inputs are x, and the hidden/cell state `hidden`. '''\n",
        "                \n",
        "        #Get outputs and new hidden state from the lstm\n",
        "        r_output,hidden=self.lstm(x, hidden)\n",
        "        #Pass through dropout layer\n",
        "        out=self.dropout(r_output)\n",
        "        #Stack up LSTM outputs using view\n",
        "        #You may need to use contiguous to reshape the output\n",
        "        out=out.contiguous().view(-1,self.n_hidden)\n",
        "        #Put x through the fully-connected layer\n",
        "        out=self.fc(out)\n",
        "        #Return the final output and the hidden state\n",
        "        return out,hidden\n",
        "    \n",
        "    def init_hidden(self,batch_size):\n",
        "        ''' Initializes hidden state '''\n",
        "        #Create two new tensors with sizes n_layers x batch_size x n_hidden,\n",
        "        #Initialized to zero, for hidden state and cell state of LSTM\n",
        "        weight=next(self.parameters()).data\n",
        "        \n",
        "        if (train_on_gpu):\n",
        "            hidden=(weight.new(self.n_layers,batch_size,self.n_hidden).zero_().cuda(),\n",
        "                    weight.new(self.n_layers,batch_size,self.n_hidden).zero_().cuda())\n",
        "        else:\n",
        "            hidden=(weight.new(self.n_layers,batch_size,self.n_hidden).zero_(),\n",
        "                    weight.new(self.n_layers,batch_size,self.n_hidden).zero_())\n",
        "        \n",
        "        return hidden"
      ],
      "execution_count": 0,
      "outputs": []
    },
    {
      "cell_type": "code",
      "metadata": {
        "id": "r890-QqKa-Zq",
        "colab_type": "code",
        "colab": {}
      },
      "source": [
        "#Define training function\n",
        "def train(net,data,epochs=10,batch_size=10,seq_length=50,lr=0.001,clip=5,val_frac=0.1,print_every=10):\n",
        "    ''' Training a network \n",
        "    \n",
        "        Arguments\n",
        "        ---------\n",
        "        \n",
        "        net: CharRNN network\n",
        "        data: text data to train the network\n",
        "        epochs: Number of epochs to train\n",
        "        batch_size: Number of mini-sequences per mini-batch, aka batch size\n",
        "        seq_length: Number of character steps per mini-batch\n",
        "        lr: learning rate\n",
        "        clip: gradient clipping\n",
        "        val_frac: Fraction of data to hold out for validation\n",
        "        print_every: Number of steps for printing training and validation loss\n",
        "    \n",
        "    '''\n",
        "    net.train()\n",
        "    \n",
        "    opt=torch.optim.Adam(net.parameters(),lr=lr)\n",
        "    criterion=nn.CrossEntropyLoss()\n",
        "    \n",
        "    #Create training and validation data\n",
        "    val_idx=int(len(data)*(1-val_frac))\n",
        "    data,val_data=data[:val_idx],data[val_idx:]\n",
        "    \n",
        "    if(train_on_gpu):\n",
        "        net.cuda()\n",
        "    \n",
        "    counter=0\n",
        "    n_chars=len(net.chars)\n",
        "    for e in range(epochs):\n",
        "        #Initialize hidden state\n",
        "        h=net.init_hidden(batch_size)\n",
        "        \n",
        "        for x, y in get_batches(data, batch_size, seq_length):\n",
        "            counter+=1\n",
        "            \n",
        "            #One-hot encode our data and make them Torch tensors\n",
        "            x=one_hot_encode(x,n_chars)\n",
        "            inputs,targets=torch.from_numpy(x),torch.from_numpy(y)\n",
        "            \n",
        "            if(train_on_gpu):\n",
        "                inputs,targets=inputs.cuda(),targets.cuda()\n",
        "\n",
        "            #Creating new variables for the hidden state, otherwise\n",
        "            #We'd backprop through the entire training history\n",
        "            h=tuple([each.data for each in h])\n",
        "\n",
        "            #Zero accumulated gradients\n",
        "            net.zero_grad()\n",
        "            \n",
        "            # get the output from the model\n",
        "            output,h=net(inputs,h)\n",
        "            \n",
        "            #Calculate the loss and perform backprop\n",
        "            loss=criterion(output,targets.view(batch_size*seq_length).long())\n",
        "            loss.backward()\n",
        "            #'Clip_grad_norm` helps prevent the exploding gradient problem in RNNs / LSTMs.\n",
        "            nn.utils.clip_grad_norm_(net.parameters(), clip)\n",
        "            opt.step()\n",
        "            \n",
        "            #Loss stats\n",
        "            if counter % print_every==0:\n",
        "                #Get validation loss\n",
        "                val_h=net.init_hidden(batch_size)\n",
        "                val_losses=[]\n",
        "                net.eval()\n",
        "                for x, y in get_batches(val_data, batch_size, seq_length):\n",
        "                    #One-hot encode our data and make them Torch tensors\n",
        "                    x=one_hot_encode(x, n_chars)\n",
        "                    x,y=torch.from_numpy(x),torch.from_numpy(y)\n",
        "                    \n",
        "                    #Creating new variables for the hidden state, otherwise\n",
        "                    #We'd backprop through the entire training history\n",
        "                    val_h=tuple([each.data for each in val_h])\n",
        "                    \n",
        "                    inputs,targets=x,y\n",
        "                    if(train_on_gpu):\n",
        "                        inputs,targets=inputs.cuda(),targets.cuda()\n",
        "\n",
        "                    output,val_h=net(inputs,val_h)\n",
        "                    val_loss=criterion(output,targets.view(batch_size*seq_length).long())\n",
        "                \n",
        "                    val_losses.append(val_loss.item())\n",
        "                \n",
        "                net.train()# reset to train mode after iterationg through validation data\n",
        "                \n",
        "                print(\"Epoch: {}/{}...\".format(e+1,epochs),\n",
        "                      \"Step: {}...\".format(counter),\n",
        "                      \"Loss: {:.4f}...\".format(loss.item()),\n",
        "                      \"Val Loss: {:.4f}\".format(np.mean(val_losses)))"
      ],
      "execution_count": 0,
      "outputs": []
    },
    {
      "cell_type": "code",
      "metadata": {
        "id": "gOGcP2dmbNSX",
        "colab_type": "code",
        "outputId": "b1c48d3b-f2ab-4d3f-91ef-2ede3e946f01",
        "colab": {
          "base_uri": "https://localhost:8080/",
          "height": 102
        }
      },
      "source": [
        "#Set model hyperparameters\n",
        "#Define and print the net\n",
        "n_hidden=512\n",
        "n_layers=2\n",
        "net=CharRNN(chars,n_hidden,n_layers)\n",
        "print(net)"
      ],
      "execution_count": 14,
      "outputs": [
        {
          "output_type": "stream",
          "text": [
            "CharRNN(\n",
            "  (lstm): LSTM(99, 512, num_layers=2, batch_first=True, dropout=0.5)\n",
            "  (dropout): Dropout(p=0.5, inplace=False)\n",
            "  (fc): Linear(in_features=512, out_features=99, bias=True)\n",
            ")\n"
          ],
          "name": "stdout"
        }
      ]
    },
    {
      "cell_type": "code",
      "metadata": {
        "id": "4d_7BB53bTPL",
        "colab_type": "code",
        "outputId": "c5e28999-e48a-4ae9-c592-0bcf75a1fa1c",
        "colab": {
          "base_uri": "https://localhost:8080/",
          "height": 1000
        }
      },
      "source": [
        "#Set training hyperparameters\n",
        "batch_size=128\n",
        "seq_length=100\n",
        "n_epochs=20  # start small if you are just testing initial behavior\n",
        "\n",
        "#Train the model\n",
        "train(net,encoded,epochs=n_epochs,batch_size=batch_size,seq_length=seq_length,lr=0.001,print_every=10)"
      ],
      "execution_count": 25,
      "outputs": [
        {
          "output_type": "stream",
          "text": [
            "Epoch: 1/20... Step: 10... Loss: 1.0617... Val Loss: 1.4647\n",
            "Epoch: 1/20... Step: 20... Loss: 1.0262... Val Loss: 1.4677\n",
            "Epoch: 1/20... Step: 30... Loss: 1.0142... Val Loss: 1.4563\n",
            "Epoch: 1/20... Step: 40... Loss: 1.0244... Val Loss: 1.4599\n",
            "Epoch: 1/20... Step: 50... Loss: 1.0664... Val Loss: 1.4595\n",
            "Epoch: 1/20... Step: 60... Loss: 1.0350... Val Loss: 1.4594\n",
            "Epoch: 2/20... Step: 70... Loss: 1.0144... Val Loss: 1.4613\n",
            "Epoch: 2/20... Step: 80... Loss: 0.9919... Val Loss: 1.4639\n",
            "Epoch: 2/20... Step: 90... Loss: 1.0012... Val Loss: 1.4588\n",
            "Epoch: 2/20... Step: 100... Loss: 1.0096... Val Loss: 1.4613\n",
            "Epoch: 2/20... Step: 110... Loss: 1.0451... Val Loss: 1.4680\n",
            "Epoch: 2/20... Step: 120... Loss: 1.0111... Val Loss: 1.4712\n",
            "Epoch: 3/20... Step: 130... Loss: 1.0139... Val Loss: 1.4732\n",
            "Epoch: 3/20... Step: 140... Loss: 0.9892... Val Loss: 1.4642\n",
            "Epoch: 3/20... Step: 150... Loss: 0.9854... Val Loss: 1.4741\n",
            "Epoch: 3/20... Step: 160... Loss: 0.9733... Val Loss: 1.4631\n",
            "Epoch: 3/20... Step: 170... Loss: 0.9828... Val Loss: 1.4612\n",
            "Epoch: 3/20... Step: 180... Loss: 0.9966... Val Loss: 1.4704\n",
            "Epoch: 4/20... Step: 190... Loss: 1.0587... Val Loss: 1.4752\n",
            "Epoch: 4/20... Step: 200... Loss: 0.9580... Val Loss: 1.4714\n",
            "Epoch: 4/20... Step: 210... Loss: 0.9673... Val Loss: 1.4755\n",
            "Epoch: 4/20... Step: 220... Loss: 0.9890... Val Loss: 1.4724\n",
            "Epoch: 4/20... Step: 230... Loss: 0.9661... Val Loss: 1.4788\n",
            "Epoch: 4/20... Step: 240... Loss: 0.9865... Val Loss: 1.4662\n",
            "Epoch: 4/20... Step: 250... Loss: 0.9857... Val Loss: 1.4704\n",
            "Epoch: 5/20... Step: 260... Loss: 0.9884... Val Loss: 1.4725\n",
            "Epoch: 5/20... Step: 270... Loss: 0.9147... Val Loss: 1.4783\n",
            "Epoch: 5/20... Step: 280... Loss: 0.9712... Val Loss: 1.4654\n",
            "Epoch: 5/20... Step: 290... Loss: 0.9396... Val Loss: 1.4764\n",
            "Epoch: 5/20... Step: 300... Loss: 0.9754... Val Loss: 1.4816\n",
            "Epoch: 5/20... Step: 310... Loss: 0.9452... Val Loss: 1.4860\n",
            "Epoch: 6/20... Step: 320... Loss: 0.9194... Val Loss: 1.4746\n",
            "Epoch: 6/20... Step: 330... Loss: 0.9619... Val Loss: 1.4755\n",
            "Epoch: 6/20... Step: 340... Loss: 0.9357... Val Loss: 1.4820\n",
            "Epoch: 6/20... Step: 350... Loss: 0.9375... Val Loss: 1.4788\n",
            "Epoch: 6/20... Step: 360... Loss: 0.9465... Val Loss: 1.4683\n",
            "Epoch: 6/20... Step: 370... Loss: 0.9358... Val Loss: 1.4818\n",
            "Epoch: 7/20... Step: 380... Loss: 0.9719... Val Loss: 1.5012\n",
            "Epoch: 7/20... Step: 390... Loss: 0.9238... Val Loss: 1.4765\n",
            "Epoch: 7/20... Step: 400... Loss: 0.9019... Val Loss: 1.4847\n",
            "Epoch: 7/20... Step: 410... Loss: 0.9685... Val Loss: 1.4839\n",
            "Epoch: 7/20... Step: 420... Loss: 0.9665... Val Loss: 1.4859\n",
            "Epoch: 7/20... Step: 430... Loss: 0.9284... Val Loss: 1.4784\n",
            "Epoch: 7/20... Step: 440... Loss: 0.9217... Val Loss: 1.4763\n",
            "Epoch: 8/20... Step: 450... Loss: 0.9648... Val Loss: 1.4906\n",
            "Epoch: 8/20... Step: 460... Loss: 0.9210... Val Loss: 1.4885\n",
            "Epoch: 8/20... Step: 470... Loss: 0.9379... Val Loss: 1.4725\n",
            "Epoch: 8/20... Step: 480... Loss: 0.8901... Val Loss: 1.4981\n",
            "Epoch: 8/20... Step: 490... Loss: 0.9496... Val Loss: 1.4845\n",
            "Epoch: 8/20... Step: 500... Loss: 0.9485... Val Loss: 1.4984\n",
            "Epoch: 9/20... Step: 510... Loss: 0.8918... Val Loss: 1.4877\n",
            "Epoch: 9/20... Step: 520... Loss: 0.9422... Val Loss: 1.4721\n",
            "Epoch: 9/20... Step: 530... Loss: 0.8850... Val Loss: 1.5085\n",
            "Epoch: 9/20... Step: 540... Loss: 0.8899... Val Loss: 1.4881\n",
            "Epoch: 9/20... Step: 550... Loss: 0.9108... Val Loss: 1.4709\n",
            "Epoch: 9/20... Step: 560... Loss: 0.9184... Val Loss: 1.5013\n",
            "Epoch: 10/20... Step: 570... Loss: 0.9449... Val Loss: 1.5014\n",
            "Epoch: 10/20... Step: 580... Loss: 0.9205... Val Loss: 1.5011\n",
            "Epoch: 10/20... Step: 590... Loss: 0.9004... Val Loss: 1.4787\n",
            "Epoch: 10/20... Step: 600... Loss: 0.8762... Val Loss: 1.4920\n",
            "Epoch: 10/20... Step: 610... Loss: 0.9169... Val Loss: 1.5067\n",
            "Epoch: 10/20... Step: 620... Loss: 0.9405... Val Loss: 1.4992\n",
            "Epoch: 10/20... Step: 630... Loss: 0.9502... Val Loss: 1.4760\n",
            "Epoch: 11/20... Step: 640... Loss: 0.9246... Val Loss: 1.4833\n",
            "Epoch: 11/20... Step: 650... Loss: 0.8921... Val Loss: 1.5094\n",
            "Epoch: 11/20... Step: 660... Loss: 0.8579... Val Loss: 1.5091\n",
            "Epoch: 11/20... Step: 670... Loss: 0.8716... Val Loss: 1.4920\n",
            "Epoch: 11/20... Step: 680... Loss: 0.9247... Val Loss: 1.4850\n",
            "Epoch: 11/20... Step: 690... Loss: 0.8917... Val Loss: 1.5122\n",
            "Epoch: 12/20... Step: 700... Loss: 0.9022... Val Loss: 1.5095\n",
            "Epoch: 12/20... Step: 710... Loss: 0.8677... Val Loss: 1.4858\n",
            "Epoch: 12/20... Step: 720... Loss: 0.8760... Val Loss: 1.4918\n",
            "Epoch: 12/20... Step: 730... Loss: 0.8801... Val Loss: 1.5227\n",
            "Epoch: 12/20... Step: 740... Loss: 0.9048... Val Loss: 1.5080\n",
            "Epoch: 12/20... Step: 750... Loss: 0.8677... Val Loss: 1.5098\n",
            "Epoch: 13/20... Step: 760... Loss: 0.8879... Val Loss: 1.5092\n",
            "Epoch: 13/20... Step: 770... Loss: 0.8691... Val Loss: 1.5169\n",
            "Epoch: 13/20... Step: 780... Loss: 0.8559... Val Loss: 1.5133\n",
            "Epoch: 13/20... Step: 790... Loss: 0.8529... Val Loss: 1.4972\n",
            "Epoch: 13/20... Step: 800... Loss: 0.8648... Val Loss: 1.5006\n",
            "Epoch: 13/20... Step: 810... Loss: 0.8606... Val Loss: 1.5142\n",
            "Epoch: 14/20... Step: 820... Loss: 0.9515... Val Loss: 1.5099\n",
            "Epoch: 14/20... Step: 830... Loss: 0.8407... Val Loss: 1.5001\n",
            "Epoch: 14/20... Step: 840... Loss: 0.8617... Val Loss: 1.5232\n",
            "Epoch: 14/20... Step: 850... Loss: 0.8776... Val Loss: 1.5145\n",
            "Epoch: 14/20... Step: 860... Loss: 0.8588... Val Loss: 1.5108\n",
            "Epoch: 14/20... Step: 870... Loss: 0.8616... Val Loss: 1.5053\n",
            "Epoch: 14/20... Step: 880... Loss: 0.8552... Val Loss: 1.5140\n",
            "Epoch: 15/20... Step: 890... Loss: 0.8702... Val Loss: 1.5269\n",
            "Epoch: 15/20... Step: 900... Loss: 0.8086... Val Loss: 1.5059\n",
            "Epoch: 15/20... Step: 910... Loss: 0.8515... Val Loss: 1.5000\n",
            "Epoch: 15/20... Step: 920... Loss: 0.8228... Val Loss: 1.5311\n",
            "Epoch: 15/20... Step: 930... Loss: 0.8674... Val Loss: 1.5350\n",
            "Epoch: 15/20... Step: 940... Loss: 0.8227... Val Loss: 1.5306\n",
            "Epoch: 16/20... Step: 950... Loss: 0.8198... Val Loss: 1.5158\n",
            "Epoch: 16/20... Step: 960... Loss: 0.8535... Val Loss: 1.5242\n",
            "Epoch: 16/20... Step: 970... Loss: 0.8302... Val Loss: 1.5395\n",
            "Epoch: 16/20... Step: 980... Loss: 0.8447... Val Loss: 1.5056\n",
            "Epoch: 16/20... Step: 990... Loss: 0.8382... Val Loss: 1.4939\n",
            "Epoch: 16/20... Step: 1000... Loss: 0.8277... Val Loss: 1.5117\n",
            "Epoch: 17/20... Step: 1010... Loss: 0.8765... Val Loss: 1.5305\n",
            "Epoch: 17/20... Step: 1020... Loss: 0.8271... Val Loss: 1.5270\n",
            "Epoch: 17/20... Step: 1030... Loss: 0.7981... Val Loss: 1.5224\n",
            "Epoch: 17/20... Step: 1040... Loss: 0.8639... Val Loss: 1.5342\n",
            "Epoch: 17/20... Step: 1050... Loss: 0.8755... Val Loss: 1.5343\n",
            "Epoch: 17/20... Step: 1060... Loss: 0.8337... Val Loss: 1.5260\n",
            "Epoch: 17/20... Step: 1070... Loss: 0.8116... Val Loss: 1.5175\n",
            "Epoch: 18/20... Step: 1080... Loss: 0.8703... Val Loss: 1.5195\n",
            "Epoch: 18/20... Step: 1090... Loss: 0.8166... Val Loss: 1.5352\n",
            "Epoch: 18/20... Step: 1100... Loss: 0.8304... Val Loss: 1.5222\n",
            "Epoch: 18/20... Step: 1110... Loss: 0.7910... Val Loss: 1.5248\n",
            "Epoch: 18/20... Step: 1120... Loss: 0.8460... Val Loss: 1.5404\n",
            "Epoch: 18/20... Step: 1130... Loss: 0.8400... Val Loss: 1.5610\n",
            "Epoch: 19/20... Step: 1140... Loss: 0.7978... Val Loss: 1.5567\n",
            "Epoch: 19/20... Step: 1150... Loss: 0.8283... Val Loss: 1.5178\n",
            "Epoch: 19/20... Step: 1160... Loss: 0.8031... Val Loss: 1.5250\n",
            "Epoch: 19/20... Step: 1170... Loss: 0.7965... Val Loss: 1.5398\n",
            "Epoch: 19/20... Step: 1180... Loss: 0.8118... Val Loss: 1.5210\n",
            "Epoch: 19/20... Step: 1190... Loss: 0.8197... Val Loss: 1.5283\n",
            "Epoch: 20/20... Step: 1200... Loss: 0.8659... Val Loss: 1.5235\n",
            "Epoch: 20/20... Step: 1210... Loss: 0.8211... Val Loss: 1.5433\n",
            "Epoch: 20/20... Step: 1220... Loss: 0.8052... Val Loss: 1.5638\n",
            "Epoch: 20/20... Step: 1230... Loss: 0.7715... Val Loss: 1.5503\n",
            "Epoch: 20/20... Step: 1240... Loss: 0.8203... Val Loss: 1.5431\n",
            "Epoch: 20/20... Step: 1250... Loss: 0.8297... Val Loss: 1.5421\n",
            "Epoch: 20/20... Step: 1260... Loss: 0.8458... Val Loss: 1.5467\n"
          ],
          "name": "stdout"
        }
      ]
    },
    {
      "cell_type": "code",
      "metadata": {
        "id": "5_7s5w-obabi",
        "colab_type": "code",
        "colab": {}
      },
      "source": [
        "#Checkpoint\n",
        "#Saving file\n",
        "model_name='love songs.net'\n",
        "\n",
        "checkpoint={'n_hidden':net.n_hidden,'n_layers':net.n_layers,'state_dict':net.state_dict(),'tokens':net.chars}\n",
        "\n",
        "with open(model_name,'wb') as f:\n",
        "    torch.save(checkpoint,f)"
      ],
      "execution_count": 0,
      "outputs": []
    },
    {
      "cell_type": "code",
      "metadata": {
        "id": "q30GVXGNb2np",
        "colab_type": "code",
        "colab": {}
      },
      "source": [
        "def predict(net,char,h=None,top_k=None):\n",
        "        ''' Given a character, predict the next character.\n",
        "            Returns the predicted character and the hidden state.\n",
        "        '''\n",
        "        #Tensor inputs\n",
        "        x=np.array([[net.char2int[char]]])\n",
        "        x=one_hot_encode(x,len(net.chars))\n",
        "        inputs=torch.from_numpy(x)\n",
        "        \n",
        "        if(train_on_gpu):\n",
        "            inputs=inputs.cuda()\n",
        "        \n",
        "        #Detach hidden state from history\n",
        "        h=tuple([each.data for each in h])\n",
        "        #Get the output of the model\n",
        "        out,h=net(inputs,h)\n",
        "\n",
        "        #Get the character probabilities\n",
        "        p=F.softmax(out,dim=1).data\n",
        "        if(train_on_gpu):\n",
        "            p=p.cpu() # move to cpu\n",
        "        \n",
        "        #Get top characters\n",
        "        if top_k is None:\n",
        "            top_ch=np.arange(len(net.chars))\n",
        "        else:\n",
        "            p,top_ch=p.topk(top_k)\n",
        "            top_ch=top_ch.numpy().squeeze()\n",
        "        \n",
        "        #Select the likely next character with some element of randomness\n",
        "        p=p.numpy().squeeze()\n",
        "        char=np.random.choice(top_ch,p=p/p.sum())\n",
        "        \n",
        "        #Return the encoded value of the predicted char and the hidden state\n",
        "        return net.int2char[char],h"
      ],
      "execution_count": 0,
      "outputs": []
    },
    {
      "cell_type": "code",
      "metadata": {
        "id": "S6cnppTcb3lf",
        "colab_type": "code",
        "colab": {}
      },
      "source": [
        "def sample(net,size,prime='The',top_k=None):\n",
        "        \n",
        "    if(train_on_gpu):\n",
        "        net.cuda()\n",
        "    else:\n",
        "        net.cpu()\n",
        "    \n",
        "    net.eval() # eval mode\n",
        "    \n",
        "    #First off,run through the prime characters\n",
        "    chars=[ch for ch in prime]\n",
        "    h=net.init_hidden(1)\n",
        "    for ch in prime:\n",
        "        char,h=predict(net,ch,h,top_k=top_k)\n",
        "\n",
        "    chars.append(char)\n",
        "    \n",
        "    #Now pass in the previous character and get a new one\n",
        "    for ii in range(size):\n",
        "        char,h=predict(net,chars[-1],h,top_k=top_k)\n",
        "        chars.append(char)\n",
        "\n",
        "    return ''.join(chars)"
      ],
      "execution_count": 0,
      "outputs": []
    },
    {
      "cell_type": "code",
      "metadata": {
        "id": "SLa4Wy3Pb8WG",
        "colab_type": "code",
        "outputId": "43f399f5-91df-4eeb-f228-851708e949fb",
        "colab": {
          "base_uri": "https://localhost:8080/",
          "height": 697
        }
      },
      "source": [
        "print(sample(net,1000,prime='I love',top_k=5))"
      ],
      "execution_count": 53,
      "outputs": [
        {
          "output_type": "stream",
          "text": [
            "I love you, love on, yeah, yeah, yeah, yeah, yeah, yeah, yeah\n",
            "\n",
            "\n",
            "I've looked to me (you’re still the one)\n",
            "\n",
            "I want to spend the rest of my life\n",
            "There was a lot lonely words to you\n",
            "I swear that's the way you love me\n",
            "Is where you're gonna rade me\n",
            "We belong to the rumh of your dreams\n",
            "I'm so in love with you, but I can't go, I'm gonna be around\n",
            "Sometimes I were together\n",
            "And I could take it alone\n",
            "\n",
            "I see my way for this fear\n",
            "\n",
            "And tell me now\n",
            "I love you baby I love you\n",
            "I love you, oh I love you,\n",
            "I want to be your man\n",
            "\n",
            "There's so much time\n",
            "I was thround befone I see you\n",
            "I can tear you to a girl like the more \n",
            "I can't live, and I do that for you, and I want you, that I could be we can't be burning star\n",
            "I wanna be with you \n",
            "In the morning right where I didn't start \n",
            "\n",
            "They walk away \n",
            "They say that my love for thes good times\n",
            "\n",
            "I know that love will drive me\n",
            "\n",
            "And you know you should go away\n",
            "\n",
            "A love this love is all I see\n",
            "The only times I would be called you belain\n",
            "\n",
            "I'm not gonna break your heart\n",
            "I know if I\n"
          ],
          "name": "stdout"
        }
      ]
    },
    {
      "cell_type": "code",
      "metadata": {
        "id": "E4xzqOqjj-Gm",
        "colab_type": "code",
        "colab": {}
      },
      "source": [
        ""
      ],
      "execution_count": 0,
      "outputs": []
    }
  ]
}