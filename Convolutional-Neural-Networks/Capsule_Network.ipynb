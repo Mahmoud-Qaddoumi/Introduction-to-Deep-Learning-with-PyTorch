{
  "nbformat": 4,
  "nbformat_minor": 0,
  "metadata": {
    "kernelspec": {
      "name": "python3",
      "display_name": "Python 3"
    },
    "language_info": {
      "codemirror_mode": {
        "name": "ipython",
        "version": 3
      },
      "file_extension": ".py",
      "mimetype": "text/x-python",
      "name": "python",
      "nbconvert_exporter": "python",
      "pygments_lexer": "ipython3",
      "version": "3.7.4"
    },
    "colab": {
      "name": "Capsule_Network.ipynb",
      "provenance": [],
      "include_colab_link": true
    },
    "accelerator": "GPU",
    "widgets": {
      "application/vnd.jupyter.widget-state+json": {
        "23a95777176144a2a5fbdd093bcdd1c2": {
          "model_module": "@jupyter-widgets/controls",
          "model_name": "HBoxModel",
          "state": {
            "_view_name": "HBoxView",
            "_dom_classes": [],
            "_model_name": "HBoxModel",
            "_view_module": "@jupyter-widgets/controls",
            "_model_module_version": "1.5.0",
            "_view_count": null,
            "_view_module_version": "1.5.0",
            "box_style": "",
            "layout": "IPY_MODEL_461ae05373d7448bb244a4cb8d1a0735",
            "_model_module": "@jupyter-widgets/controls",
            "children": [
              "IPY_MODEL_784c905fbcfc453abb27cbf3c0a06008",
              "IPY_MODEL_94a09596e3e54b538e47926986c0865e"
            ]
          }
        },
        "461ae05373d7448bb244a4cb8d1a0735": {
          "model_module": "@jupyter-widgets/base",
          "model_name": "LayoutModel",
          "state": {
            "_view_name": "LayoutView",
            "grid_template_rows": null,
            "right": null,
            "justify_content": null,
            "_view_module": "@jupyter-widgets/base",
            "overflow": null,
            "_model_module_version": "1.2.0",
            "_view_count": null,
            "flex_flow": null,
            "width": null,
            "min_width": null,
            "border": null,
            "align_items": null,
            "bottom": null,
            "_model_module": "@jupyter-widgets/base",
            "top": null,
            "grid_column": null,
            "overflow_y": null,
            "overflow_x": null,
            "grid_auto_flow": null,
            "grid_area": null,
            "grid_template_columns": null,
            "flex": null,
            "_model_name": "LayoutModel",
            "justify_items": null,
            "grid_row": null,
            "max_height": null,
            "align_content": null,
            "visibility": null,
            "align_self": null,
            "height": null,
            "min_height": null,
            "padding": null,
            "grid_auto_rows": null,
            "grid_gap": null,
            "max_width": null,
            "order": null,
            "_view_module_version": "1.2.0",
            "grid_template_areas": null,
            "object_position": null,
            "object_fit": null,
            "grid_auto_columns": null,
            "margin": null,
            "display": null,
            "left": null
          }
        },
        "784c905fbcfc453abb27cbf3c0a06008": {
          "model_module": "@jupyter-widgets/controls",
          "model_name": "IntProgressModel",
          "state": {
            "_view_name": "ProgressView",
            "style": "IPY_MODEL_3dd02583038c49bcb2c41c7f4222aa4f",
            "_dom_classes": [],
            "description": "",
            "_model_name": "IntProgressModel",
            "bar_style": "success",
            "max": 1,
            "_view_module": "@jupyter-widgets/controls",
            "_model_module_version": "1.5.0",
            "value": 1,
            "_view_count": null,
            "_view_module_version": "1.5.0",
            "orientation": "horizontal",
            "min": 0,
            "description_tooltip": null,
            "_model_module": "@jupyter-widgets/controls",
            "layout": "IPY_MODEL_5ae50c2e6c1d4b4e9a7c95713af2a383"
          }
        },
        "94a09596e3e54b538e47926986c0865e": {
          "model_module": "@jupyter-widgets/controls",
          "model_name": "HTMLModel",
          "state": {
            "_view_name": "HTMLView",
            "style": "IPY_MODEL_a4f43fa94a124f60bec5bc6b840519b5",
            "_dom_classes": [],
            "description": "",
            "_model_name": "HTMLModel",
            "placeholder": "​",
            "_view_module": "@jupyter-widgets/controls",
            "_model_module_version": "1.5.0",
            "value": "9920512it [00:01, 9539562.16it/s]",
            "_view_count": null,
            "_view_module_version": "1.5.0",
            "description_tooltip": null,
            "_model_module": "@jupyter-widgets/controls",
            "layout": "IPY_MODEL_300b9c08553842d3a0ec49f22fa23405"
          }
        },
        "3dd02583038c49bcb2c41c7f4222aa4f": {
          "model_module": "@jupyter-widgets/controls",
          "model_name": "ProgressStyleModel",
          "state": {
            "_view_name": "StyleView",
            "_model_name": "ProgressStyleModel",
            "description_width": "",
            "_view_module": "@jupyter-widgets/base",
            "_model_module_version": "1.5.0",
            "_view_count": null,
            "_view_module_version": "1.2.0",
            "bar_color": null,
            "_model_module": "@jupyter-widgets/controls"
          }
        },
        "5ae50c2e6c1d4b4e9a7c95713af2a383": {
          "model_module": "@jupyter-widgets/base",
          "model_name": "LayoutModel",
          "state": {
            "_view_name": "LayoutView",
            "grid_template_rows": null,
            "right": null,
            "justify_content": null,
            "_view_module": "@jupyter-widgets/base",
            "overflow": null,
            "_model_module_version": "1.2.0",
            "_view_count": null,
            "flex_flow": null,
            "width": null,
            "min_width": null,
            "border": null,
            "align_items": null,
            "bottom": null,
            "_model_module": "@jupyter-widgets/base",
            "top": null,
            "grid_column": null,
            "overflow_y": null,
            "overflow_x": null,
            "grid_auto_flow": null,
            "grid_area": null,
            "grid_template_columns": null,
            "flex": null,
            "_model_name": "LayoutModel",
            "justify_items": null,
            "grid_row": null,
            "max_height": null,
            "align_content": null,
            "visibility": null,
            "align_self": null,
            "height": null,
            "min_height": null,
            "padding": null,
            "grid_auto_rows": null,
            "grid_gap": null,
            "max_width": null,
            "order": null,
            "_view_module_version": "1.2.0",
            "grid_template_areas": null,
            "object_position": null,
            "object_fit": null,
            "grid_auto_columns": null,
            "margin": null,
            "display": null,
            "left": null
          }
        },
        "a4f43fa94a124f60bec5bc6b840519b5": {
          "model_module": "@jupyter-widgets/controls",
          "model_name": "DescriptionStyleModel",
          "state": {
            "_view_name": "StyleView",
            "_model_name": "DescriptionStyleModel",
            "description_width": "",
            "_view_module": "@jupyter-widgets/base",
            "_model_module_version": "1.5.0",
            "_view_count": null,
            "_view_module_version": "1.2.0",
            "_model_module": "@jupyter-widgets/controls"
          }
        },
        "300b9c08553842d3a0ec49f22fa23405": {
          "model_module": "@jupyter-widgets/base",
          "model_name": "LayoutModel",
          "state": {
            "_view_name": "LayoutView",
            "grid_template_rows": null,
            "right": null,
            "justify_content": null,
            "_view_module": "@jupyter-widgets/base",
            "overflow": null,
            "_model_module_version": "1.2.0",
            "_view_count": null,
            "flex_flow": null,
            "width": null,
            "min_width": null,
            "border": null,
            "align_items": null,
            "bottom": null,
            "_model_module": "@jupyter-widgets/base",
            "top": null,
            "grid_column": null,
            "overflow_y": null,
            "overflow_x": null,
            "grid_auto_flow": null,
            "grid_area": null,
            "grid_template_columns": null,
            "flex": null,
            "_model_name": "LayoutModel",
            "justify_items": null,
            "grid_row": null,
            "max_height": null,
            "align_content": null,
            "visibility": null,
            "align_self": null,
            "height": null,
            "min_height": null,
            "padding": null,
            "grid_auto_rows": null,
            "grid_gap": null,
            "max_width": null,
            "order": null,
            "_view_module_version": "1.2.0",
            "grid_template_areas": null,
            "object_position": null,
            "object_fit": null,
            "grid_auto_columns": null,
            "margin": null,
            "display": null,
            "left": null
          }
        },
        "ddbdcd2b0f044dc48f3cbb9a1d0e2e63": {
          "model_module": "@jupyter-widgets/controls",
          "model_name": "HBoxModel",
          "state": {
            "_view_name": "HBoxView",
            "_dom_classes": [],
            "_model_name": "HBoxModel",
            "_view_module": "@jupyter-widgets/controls",
            "_model_module_version": "1.5.0",
            "_view_count": null,
            "_view_module_version": "1.5.0",
            "box_style": "",
            "layout": "IPY_MODEL_5e3cf45b29824deb98d90eb791189953",
            "_model_module": "@jupyter-widgets/controls",
            "children": [
              "IPY_MODEL_61eee2a5312a484dbc6685c2cbe81ada",
              "IPY_MODEL_48cd6e5c9d914d0682edd08fb14f5880"
            ]
          }
        },
        "5e3cf45b29824deb98d90eb791189953": {
          "model_module": "@jupyter-widgets/base",
          "model_name": "LayoutModel",
          "state": {
            "_view_name": "LayoutView",
            "grid_template_rows": null,
            "right": null,
            "justify_content": null,
            "_view_module": "@jupyter-widgets/base",
            "overflow": null,
            "_model_module_version": "1.2.0",
            "_view_count": null,
            "flex_flow": null,
            "width": null,
            "min_width": null,
            "border": null,
            "align_items": null,
            "bottom": null,
            "_model_module": "@jupyter-widgets/base",
            "top": null,
            "grid_column": null,
            "overflow_y": null,
            "overflow_x": null,
            "grid_auto_flow": null,
            "grid_area": null,
            "grid_template_columns": null,
            "flex": null,
            "_model_name": "LayoutModel",
            "justify_items": null,
            "grid_row": null,
            "max_height": null,
            "align_content": null,
            "visibility": null,
            "align_self": null,
            "height": null,
            "min_height": null,
            "padding": null,
            "grid_auto_rows": null,
            "grid_gap": null,
            "max_width": null,
            "order": null,
            "_view_module_version": "1.2.0",
            "grid_template_areas": null,
            "object_position": null,
            "object_fit": null,
            "grid_auto_columns": null,
            "margin": null,
            "display": null,
            "left": null
          }
        },
        "61eee2a5312a484dbc6685c2cbe81ada": {
          "model_module": "@jupyter-widgets/controls",
          "model_name": "IntProgressModel",
          "state": {
            "_view_name": "ProgressView",
            "style": "IPY_MODEL_cbc4611e20db43b9897c1d698935d6f2",
            "_dom_classes": [],
            "description": "",
            "_model_name": "IntProgressModel",
            "bar_style": "success",
            "max": 1,
            "_view_module": "@jupyter-widgets/controls",
            "_model_module_version": "1.5.0",
            "value": 1,
            "_view_count": null,
            "_view_module_version": "1.5.0",
            "orientation": "horizontal",
            "min": 0,
            "description_tooltip": null,
            "_model_module": "@jupyter-widgets/controls",
            "layout": "IPY_MODEL_7d1f5f76d74447668aa45a3356328013"
          }
        },
        "48cd6e5c9d914d0682edd08fb14f5880": {
          "model_module": "@jupyter-widgets/controls",
          "model_name": "HTMLModel",
          "state": {
            "_view_name": "HTMLView",
            "style": "IPY_MODEL_c7e4b165e3aa4695a58cef6670bbdcb7",
            "_dom_classes": [],
            "description": "",
            "_model_name": "HTMLModel",
            "placeholder": "​",
            "_view_module": "@jupyter-widgets/controls",
            "_model_module_version": "1.5.0",
            "value": "32768it [00:00, 79851.91it/s]",
            "_view_count": null,
            "_view_module_version": "1.5.0",
            "description_tooltip": null,
            "_model_module": "@jupyter-widgets/controls",
            "layout": "IPY_MODEL_495f3c653a9141b49ecdeaa2ce6de514"
          }
        },
        "cbc4611e20db43b9897c1d698935d6f2": {
          "model_module": "@jupyter-widgets/controls",
          "model_name": "ProgressStyleModel",
          "state": {
            "_view_name": "StyleView",
            "_model_name": "ProgressStyleModel",
            "description_width": "",
            "_view_module": "@jupyter-widgets/base",
            "_model_module_version": "1.5.0",
            "_view_count": null,
            "_view_module_version": "1.2.0",
            "bar_color": null,
            "_model_module": "@jupyter-widgets/controls"
          }
        },
        "7d1f5f76d74447668aa45a3356328013": {
          "model_module": "@jupyter-widgets/base",
          "model_name": "LayoutModel",
          "state": {
            "_view_name": "LayoutView",
            "grid_template_rows": null,
            "right": null,
            "justify_content": null,
            "_view_module": "@jupyter-widgets/base",
            "overflow": null,
            "_model_module_version": "1.2.0",
            "_view_count": null,
            "flex_flow": null,
            "width": null,
            "min_width": null,
            "border": null,
            "align_items": null,
            "bottom": null,
            "_model_module": "@jupyter-widgets/base",
            "top": null,
            "grid_column": null,
            "overflow_y": null,
            "overflow_x": null,
            "grid_auto_flow": null,
            "grid_area": null,
            "grid_template_columns": null,
            "flex": null,
            "_model_name": "LayoutModel",
            "justify_items": null,
            "grid_row": null,
            "max_height": null,
            "align_content": null,
            "visibility": null,
            "align_self": null,
            "height": null,
            "min_height": null,
            "padding": null,
            "grid_auto_rows": null,
            "grid_gap": null,
            "max_width": null,
            "order": null,
            "_view_module_version": "1.2.0",
            "grid_template_areas": null,
            "object_position": null,
            "object_fit": null,
            "grid_auto_columns": null,
            "margin": null,
            "display": null,
            "left": null
          }
        },
        "c7e4b165e3aa4695a58cef6670bbdcb7": {
          "model_module": "@jupyter-widgets/controls",
          "model_name": "DescriptionStyleModel",
          "state": {
            "_view_name": "StyleView",
            "_model_name": "DescriptionStyleModel",
            "description_width": "",
            "_view_module": "@jupyter-widgets/base",
            "_model_module_version": "1.5.0",
            "_view_count": null,
            "_view_module_version": "1.2.0",
            "_model_module": "@jupyter-widgets/controls"
          }
        },
        "495f3c653a9141b49ecdeaa2ce6de514": {
          "model_module": "@jupyter-widgets/base",
          "model_name": "LayoutModel",
          "state": {
            "_view_name": "LayoutView",
            "grid_template_rows": null,
            "right": null,
            "justify_content": null,
            "_view_module": "@jupyter-widgets/base",
            "overflow": null,
            "_model_module_version": "1.2.0",
            "_view_count": null,
            "flex_flow": null,
            "width": null,
            "min_width": null,
            "border": null,
            "align_items": null,
            "bottom": null,
            "_model_module": "@jupyter-widgets/base",
            "top": null,
            "grid_column": null,
            "overflow_y": null,
            "overflow_x": null,
            "grid_auto_flow": null,
            "grid_area": null,
            "grid_template_columns": null,
            "flex": null,
            "_model_name": "LayoutModel",
            "justify_items": null,
            "grid_row": null,
            "max_height": null,
            "align_content": null,
            "visibility": null,
            "align_self": null,
            "height": null,
            "min_height": null,
            "padding": null,
            "grid_auto_rows": null,
            "grid_gap": null,
            "max_width": null,
            "order": null,
            "_view_module_version": "1.2.0",
            "grid_template_areas": null,
            "object_position": null,
            "object_fit": null,
            "grid_auto_columns": null,
            "margin": null,
            "display": null,
            "left": null
          }
        },
        "d79c3cda5a5843c28a1947c628a379d4": {
          "model_module": "@jupyter-widgets/controls",
          "model_name": "HBoxModel",
          "state": {
            "_view_name": "HBoxView",
            "_dom_classes": [],
            "_model_name": "HBoxModel",
            "_view_module": "@jupyter-widgets/controls",
            "_model_module_version": "1.5.0",
            "_view_count": null,
            "_view_module_version": "1.5.0",
            "box_style": "",
            "layout": "IPY_MODEL_cb16091169e44fe3ad8ad8d60455e837",
            "_model_module": "@jupyter-widgets/controls",
            "children": [
              "IPY_MODEL_4fdfb7df7de643548c5fe333f553dce7",
              "IPY_MODEL_2ae60e7771224f5f9ab68c01c51b5838"
            ]
          }
        },
        "cb16091169e44fe3ad8ad8d60455e837": {
          "model_module": "@jupyter-widgets/base",
          "model_name": "LayoutModel",
          "state": {
            "_view_name": "LayoutView",
            "grid_template_rows": null,
            "right": null,
            "justify_content": null,
            "_view_module": "@jupyter-widgets/base",
            "overflow": null,
            "_model_module_version": "1.2.0",
            "_view_count": null,
            "flex_flow": null,
            "width": null,
            "min_width": null,
            "border": null,
            "align_items": null,
            "bottom": null,
            "_model_module": "@jupyter-widgets/base",
            "top": null,
            "grid_column": null,
            "overflow_y": null,
            "overflow_x": null,
            "grid_auto_flow": null,
            "grid_area": null,
            "grid_template_columns": null,
            "flex": null,
            "_model_name": "LayoutModel",
            "justify_items": null,
            "grid_row": null,
            "max_height": null,
            "align_content": null,
            "visibility": null,
            "align_self": null,
            "height": null,
            "min_height": null,
            "padding": null,
            "grid_auto_rows": null,
            "grid_gap": null,
            "max_width": null,
            "order": null,
            "_view_module_version": "1.2.0",
            "grid_template_areas": null,
            "object_position": null,
            "object_fit": null,
            "grid_auto_columns": null,
            "margin": null,
            "display": null,
            "left": null
          }
        },
        "4fdfb7df7de643548c5fe333f553dce7": {
          "model_module": "@jupyter-widgets/controls",
          "model_name": "IntProgressModel",
          "state": {
            "_view_name": "ProgressView",
            "style": "IPY_MODEL_2af56fd5b4b44815b2f505ffe9748cd4",
            "_dom_classes": [],
            "description": "",
            "_model_name": "IntProgressModel",
            "bar_style": "success",
            "max": 1,
            "_view_module": "@jupyter-widgets/controls",
            "_model_module_version": "1.5.0",
            "value": 1,
            "_view_count": null,
            "_view_module_version": "1.5.0",
            "orientation": "horizontal",
            "min": 0,
            "description_tooltip": null,
            "_model_module": "@jupyter-widgets/controls",
            "layout": "IPY_MODEL_c33448329aa34fe798ebfcaa5b6a724b"
          }
        },
        "2ae60e7771224f5f9ab68c01c51b5838": {
          "model_module": "@jupyter-widgets/controls",
          "model_name": "HTMLModel",
          "state": {
            "_view_name": "HTMLView",
            "style": "IPY_MODEL_bd69d1d4bda64cee8b5ea5b7fd8d51a5",
            "_dom_classes": [],
            "description": "",
            "_model_name": "HTMLModel",
            "placeholder": "​",
            "_view_module": "@jupyter-widgets/controls",
            "_model_module_version": "1.5.0",
            "value": "1654784it [00:00, 1960079.55it/s]",
            "_view_count": null,
            "_view_module_version": "1.5.0",
            "description_tooltip": null,
            "_model_module": "@jupyter-widgets/controls",
            "layout": "IPY_MODEL_92d35515a60c40e09d4e81e7e965cb3d"
          }
        },
        "2af56fd5b4b44815b2f505ffe9748cd4": {
          "model_module": "@jupyter-widgets/controls",
          "model_name": "ProgressStyleModel",
          "state": {
            "_view_name": "StyleView",
            "_model_name": "ProgressStyleModel",
            "description_width": "",
            "_view_module": "@jupyter-widgets/base",
            "_model_module_version": "1.5.0",
            "_view_count": null,
            "_view_module_version": "1.2.0",
            "bar_color": null,
            "_model_module": "@jupyter-widgets/controls"
          }
        },
        "c33448329aa34fe798ebfcaa5b6a724b": {
          "model_module": "@jupyter-widgets/base",
          "model_name": "LayoutModel",
          "state": {
            "_view_name": "LayoutView",
            "grid_template_rows": null,
            "right": null,
            "justify_content": null,
            "_view_module": "@jupyter-widgets/base",
            "overflow": null,
            "_model_module_version": "1.2.0",
            "_view_count": null,
            "flex_flow": null,
            "width": null,
            "min_width": null,
            "border": null,
            "align_items": null,
            "bottom": null,
            "_model_module": "@jupyter-widgets/base",
            "top": null,
            "grid_column": null,
            "overflow_y": null,
            "overflow_x": null,
            "grid_auto_flow": null,
            "grid_area": null,
            "grid_template_columns": null,
            "flex": null,
            "_model_name": "LayoutModel",
            "justify_items": null,
            "grid_row": null,
            "max_height": null,
            "align_content": null,
            "visibility": null,
            "align_self": null,
            "height": null,
            "min_height": null,
            "padding": null,
            "grid_auto_rows": null,
            "grid_gap": null,
            "max_width": null,
            "order": null,
            "_view_module_version": "1.2.0",
            "grid_template_areas": null,
            "object_position": null,
            "object_fit": null,
            "grid_auto_columns": null,
            "margin": null,
            "display": null,
            "left": null
          }
        },
        "bd69d1d4bda64cee8b5ea5b7fd8d51a5": {
          "model_module": "@jupyter-widgets/controls",
          "model_name": "DescriptionStyleModel",
          "state": {
            "_view_name": "StyleView",
            "_model_name": "DescriptionStyleModel",
            "description_width": "",
            "_view_module": "@jupyter-widgets/base",
            "_model_module_version": "1.5.0",
            "_view_count": null,
            "_view_module_version": "1.2.0",
            "_model_module": "@jupyter-widgets/controls"
          }
        },
        "92d35515a60c40e09d4e81e7e965cb3d": {
          "model_module": "@jupyter-widgets/base",
          "model_name": "LayoutModel",
          "state": {
            "_view_name": "LayoutView",
            "grid_template_rows": null,
            "right": null,
            "justify_content": null,
            "_view_module": "@jupyter-widgets/base",
            "overflow": null,
            "_model_module_version": "1.2.0",
            "_view_count": null,
            "flex_flow": null,
            "width": null,
            "min_width": null,
            "border": null,
            "align_items": null,
            "bottom": null,
            "_model_module": "@jupyter-widgets/base",
            "top": null,
            "grid_column": null,
            "overflow_y": null,
            "overflow_x": null,
            "grid_auto_flow": null,
            "grid_area": null,
            "grid_template_columns": null,
            "flex": null,
            "_model_name": "LayoutModel",
            "justify_items": null,
            "grid_row": null,
            "max_height": null,
            "align_content": null,
            "visibility": null,
            "align_self": null,
            "height": null,
            "min_height": null,
            "padding": null,
            "grid_auto_rows": null,
            "grid_gap": null,
            "max_width": null,
            "order": null,
            "_view_module_version": "1.2.0",
            "grid_template_areas": null,
            "object_position": null,
            "object_fit": null,
            "grid_auto_columns": null,
            "margin": null,
            "display": null,
            "left": null
          }
        },
        "aea26a7680fe40e0a3c720f19c87b01d": {
          "model_module": "@jupyter-widgets/controls",
          "model_name": "HBoxModel",
          "state": {
            "_view_name": "HBoxView",
            "_dom_classes": [],
            "_model_name": "HBoxModel",
            "_view_module": "@jupyter-widgets/controls",
            "_model_module_version": "1.5.0",
            "_view_count": null,
            "_view_module_version": "1.5.0",
            "box_style": "",
            "layout": "IPY_MODEL_63b82e91193144ab80ad6855538cfa3d",
            "_model_module": "@jupyter-widgets/controls",
            "children": [
              "IPY_MODEL_d61c9e62767241f6b0c18e059f6caf8a",
              "IPY_MODEL_104a02cce4dc4574897d7347c5a567aa"
            ]
          }
        },
        "63b82e91193144ab80ad6855538cfa3d": {
          "model_module": "@jupyter-widgets/base",
          "model_name": "LayoutModel",
          "state": {
            "_view_name": "LayoutView",
            "grid_template_rows": null,
            "right": null,
            "justify_content": null,
            "_view_module": "@jupyter-widgets/base",
            "overflow": null,
            "_model_module_version": "1.2.0",
            "_view_count": null,
            "flex_flow": null,
            "width": null,
            "min_width": null,
            "border": null,
            "align_items": null,
            "bottom": null,
            "_model_module": "@jupyter-widgets/base",
            "top": null,
            "grid_column": null,
            "overflow_y": null,
            "overflow_x": null,
            "grid_auto_flow": null,
            "grid_area": null,
            "grid_template_columns": null,
            "flex": null,
            "_model_name": "LayoutModel",
            "justify_items": null,
            "grid_row": null,
            "max_height": null,
            "align_content": null,
            "visibility": null,
            "align_self": null,
            "height": null,
            "min_height": null,
            "padding": null,
            "grid_auto_rows": null,
            "grid_gap": null,
            "max_width": null,
            "order": null,
            "_view_module_version": "1.2.0",
            "grid_template_areas": null,
            "object_position": null,
            "object_fit": null,
            "grid_auto_columns": null,
            "margin": null,
            "display": null,
            "left": null
          }
        },
        "d61c9e62767241f6b0c18e059f6caf8a": {
          "model_module": "@jupyter-widgets/controls",
          "model_name": "IntProgressModel",
          "state": {
            "_view_name": "ProgressView",
            "style": "IPY_MODEL_2e0339e7e48d4949a9df0322cfc08f4f",
            "_dom_classes": [],
            "description": "",
            "_model_name": "IntProgressModel",
            "bar_style": "success",
            "max": 1,
            "_view_module": "@jupyter-widgets/controls",
            "_model_module_version": "1.5.0",
            "value": 1,
            "_view_count": null,
            "_view_module_version": "1.5.0",
            "orientation": "horizontal",
            "min": 0,
            "description_tooltip": null,
            "_model_module": "@jupyter-widgets/controls",
            "layout": "IPY_MODEL_590844493c614529b70585b23fbe9852"
          }
        },
        "104a02cce4dc4574897d7347c5a567aa": {
          "model_module": "@jupyter-widgets/controls",
          "model_name": "HTMLModel",
          "state": {
            "_view_name": "HTMLView",
            "style": "IPY_MODEL_333cb58137f845fa958aaa7cf90ec97c",
            "_dom_classes": [],
            "description": "",
            "_model_name": "HTMLModel",
            "placeholder": "​",
            "_view_module": "@jupyter-widgets/controls",
            "_model_module_version": "1.5.0",
            "value": "8192it [00:00, 24850.59it/s]",
            "_view_count": null,
            "_view_module_version": "1.5.0",
            "description_tooltip": null,
            "_model_module": "@jupyter-widgets/controls",
            "layout": "IPY_MODEL_6ebbb362e1e14b73839281b8cb3da073"
          }
        },
        "2e0339e7e48d4949a9df0322cfc08f4f": {
          "model_module": "@jupyter-widgets/controls",
          "model_name": "ProgressStyleModel",
          "state": {
            "_view_name": "StyleView",
            "_model_name": "ProgressStyleModel",
            "description_width": "",
            "_view_module": "@jupyter-widgets/base",
            "_model_module_version": "1.5.0",
            "_view_count": null,
            "_view_module_version": "1.2.0",
            "bar_color": null,
            "_model_module": "@jupyter-widgets/controls"
          }
        },
        "590844493c614529b70585b23fbe9852": {
          "model_module": "@jupyter-widgets/base",
          "model_name": "LayoutModel",
          "state": {
            "_view_name": "LayoutView",
            "grid_template_rows": null,
            "right": null,
            "justify_content": null,
            "_view_module": "@jupyter-widgets/base",
            "overflow": null,
            "_model_module_version": "1.2.0",
            "_view_count": null,
            "flex_flow": null,
            "width": null,
            "min_width": null,
            "border": null,
            "align_items": null,
            "bottom": null,
            "_model_module": "@jupyter-widgets/base",
            "top": null,
            "grid_column": null,
            "overflow_y": null,
            "overflow_x": null,
            "grid_auto_flow": null,
            "grid_area": null,
            "grid_template_columns": null,
            "flex": null,
            "_model_name": "LayoutModel",
            "justify_items": null,
            "grid_row": null,
            "max_height": null,
            "align_content": null,
            "visibility": null,
            "align_self": null,
            "height": null,
            "min_height": null,
            "padding": null,
            "grid_auto_rows": null,
            "grid_gap": null,
            "max_width": null,
            "order": null,
            "_view_module_version": "1.2.0",
            "grid_template_areas": null,
            "object_position": null,
            "object_fit": null,
            "grid_auto_columns": null,
            "margin": null,
            "display": null,
            "left": null
          }
        },
        "333cb58137f845fa958aaa7cf90ec97c": {
          "model_module": "@jupyter-widgets/controls",
          "model_name": "DescriptionStyleModel",
          "state": {
            "_view_name": "StyleView",
            "_model_name": "DescriptionStyleModel",
            "description_width": "",
            "_view_module": "@jupyter-widgets/base",
            "_model_module_version": "1.5.0",
            "_view_count": null,
            "_view_module_version": "1.2.0",
            "_model_module": "@jupyter-widgets/controls"
          }
        },
        "6ebbb362e1e14b73839281b8cb3da073": {
          "model_module": "@jupyter-widgets/base",
          "model_name": "LayoutModel",
          "state": {
            "_view_name": "LayoutView",
            "grid_template_rows": null,
            "right": null,
            "justify_content": null,
            "_view_module": "@jupyter-widgets/base",
            "overflow": null,
            "_model_module_version": "1.2.0",
            "_view_count": null,
            "flex_flow": null,
            "width": null,
            "min_width": null,
            "border": null,
            "align_items": null,
            "bottom": null,
            "_model_module": "@jupyter-widgets/base",
            "top": null,
            "grid_column": null,
            "overflow_y": null,
            "overflow_x": null,
            "grid_auto_flow": null,
            "grid_area": null,
            "grid_template_columns": null,
            "flex": null,
            "_model_name": "LayoutModel",
            "justify_items": null,
            "grid_row": null,
            "max_height": null,
            "align_content": null,
            "visibility": null,
            "align_self": null,
            "height": null,
            "min_height": null,
            "padding": null,
            "grid_auto_rows": null,
            "grid_gap": null,
            "max_width": null,
            "order": null,
            "_view_module_version": "1.2.0",
            "grid_template_areas": null,
            "object_position": null,
            "object_fit": null,
            "grid_auto_columns": null,
            "margin": null,
            "display": null,
            "left": null
          }
        }
      }
    }
  },
  "cells": [
    {
      "cell_type": "markdown",
      "metadata": {
        "id": "view-in-github",
        "colab_type": "text"
      },
      "source": [
        "<a href=\"https://colab.research.google.com/github/wafa-b/Introduction-to-Deep-Learning-with-PyTorch/blob/master/Convolutional-Neural-Networks/Capsule_Network.ipynb\" target=\"_parent\"><img src=\"https://colab.research.google.com/assets/colab-badge.svg\" alt=\"Open In Colab\"/></a>"
      ]
    },
    {
      "cell_type": "markdown",
      "metadata": {
        "id": "nw8LxJjP6gCv",
        "colab_type": "text"
      },
      "source": [
        "## Capsule Network\n",
        "\n",
        "We'll be building a simple Capsule Network that aims to classify MNIST images.\n",
        "\n",
        "###### What are Capsules?\n",
        "\n",
        "Capsules are a small group of neurons that have a few key traits:\n",
        ">* Each neuron in a capsule represents various properties of a particular image part; properties like a parts color, width, etc. \n",
        "* Every capsule **outputs a vector**, which has some magnitude (that represents the probability of a part's **existence**) and orientation (that represents a part's generalized pose).\n",
        "* A capsule network is made of multiple layers of capsules; during training, this network aims to learn the spatial relationships between the parts and whole of an object (ex. how the position of eyes and a nose relate to the position of a whole face in an image).\n",
        "* Capsules represent relationships between parts of a whole object by using **dynamic routing** to weight the connections between one layer of capsules and the next and creating strong connections between spatially-related object parts. \n",
        "\n",
        "###### Representing Relationships Between Parts\n",
        "\n",
        "All of these traits allow capsules to communicate with each other and determine how data moves through them. Using dynamic communication, during the training process, a capsule network learns the **spatial relationships** between visual parts and their wholes (ex. between eyes, a nose, and a mouth on a face). When compared to a vanilla CNN, this knowledge about spatial relationships makes it easier for a capsule network to identify an object no matter what orientation it is in. These networks are also better able to identify multiple, overlapping objects, and learn from smaller sets of training data! \n",
        "\n",
        "---\n",
        "###### Model Architecture\n",
        "\n",
        "The Capsule Network that I'll define is made of two main parts:\n",
        "1. A convolutional encoder\n",
        "2. A fully-connected, linear decoder\n",
        "\n",
        "I'll be following the architecture described [in the original Capsule Network paper](https://arxiv.org/pdf/1710.09829.pdf). I'll describe each layer in more detail as I define it in this notebook, but first let's load in our resources and MNIST data. I'm also setting a random seed, for reproducibility."
      ]
    },
    {
      "cell_type": "code",
      "metadata": {
        "id": "pF3dlz4r6gC0",
        "colab_type": "code",
        "colab": {
          "base_uri": "https://localhost:8080/",
          "height": 34
        },
        "outputId": "21feacb7-38b3-43a4-aa7b-98847271782f"
      },
      "source": [
        "# import resources\n",
        "import numpy as np\n",
        "import torch\n",
        "\n",
        "# random seed (for reproducibility)\n",
        "seed = 1\n",
        "# set random seed for numpy\n",
        "np.random.seed(seed)\n",
        "# set random seed for pytorch\n",
        "torch.manual_seed(seed)"
      ],
      "execution_count": 2,
      "outputs": [
        {
          "output_type": "execute_result",
          "data": {
            "text/plain": [
              "<torch._C.Generator at 0x7fe15f6afab0>"
            ]
          },
          "metadata": {
            "tags": []
          },
          "execution_count": 2
        }
      ]
    },
    {
      "cell_type": "markdown",
      "metadata": {
        "id": "5e-9_Z7f6gDE",
        "colab_type": "text"
      },
      "source": [
        "###### Obtain the [Data](http://pytorch.org/docs/stable/torchvision/datasets.html)"
      ]
    },
    {
      "cell_type": "code",
      "metadata": {
        "id": "WmvS9r3l6gDH",
        "colab_type": "code",
        "colab": {
          "base_uri": "https://localhost:8080/",
          "height": 383,
          "referenced_widgets": [
            "23a95777176144a2a5fbdd093bcdd1c2",
            "461ae05373d7448bb244a4cb8d1a0735",
            "784c905fbcfc453abb27cbf3c0a06008",
            "94a09596e3e54b538e47926986c0865e",
            "3dd02583038c49bcb2c41c7f4222aa4f",
            "5ae50c2e6c1d4b4e9a7c95713af2a383",
            "a4f43fa94a124f60bec5bc6b840519b5",
            "300b9c08553842d3a0ec49f22fa23405",
            "ddbdcd2b0f044dc48f3cbb9a1d0e2e63",
            "5e3cf45b29824deb98d90eb791189953",
            "61eee2a5312a484dbc6685c2cbe81ada",
            "48cd6e5c9d914d0682edd08fb14f5880",
            "cbc4611e20db43b9897c1d698935d6f2",
            "7d1f5f76d74447668aa45a3356328013",
            "c7e4b165e3aa4695a58cef6670bbdcb7",
            "495f3c653a9141b49ecdeaa2ce6de514",
            "d79c3cda5a5843c28a1947c628a379d4",
            "cb16091169e44fe3ad8ad8d60455e837",
            "4fdfb7df7de643548c5fe333f553dce7",
            "2ae60e7771224f5f9ab68c01c51b5838",
            "2af56fd5b4b44815b2f505ffe9748cd4",
            "c33448329aa34fe798ebfcaa5b6a724b",
            "bd69d1d4bda64cee8b5ea5b7fd8d51a5",
            "92d35515a60c40e09d4e81e7e965cb3d",
            "aea26a7680fe40e0a3c720f19c87b01d",
            "63b82e91193144ab80ad6855538cfa3d",
            "d61c9e62767241f6b0c18e059f6caf8a",
            "104a02cce4dc4574897d7347c5a567aa",
            "2e0339e7e48d4949a9df0322cfc08f4f",
            "590844493c614529b70585b23fbe9852",
            "333cb58137f845fa958aaa7cf90ec97c",
            "6ebbb362e1e14b73839281b8cb3da073"
          ]
        },
        "outputId": "1ca66ec4-f627-4bb2-d435-8890bb5eed47"
      },
      "source": [
        "from torchvision import datasets\n",
        "import torchvision.transforms as transforms\n",
        "\n",
        "# number of subprocesses to use for data loading\n",
        "num_workers = 0\n",
        "# how many samples per batch to load\n",
        "batch_size = 20\n",
        "\n",
        "# convert data to Tensors\n",
        "transform = transforms.ToTensor()\n",
        "\n",
        "# choose the training and test datasets\n",
        "train_data = datasets.MNIST(root='data', train=True,download=True, transform=transform)\n",
        "\n",
        "test_data = datasets.MNIST(root='data', train=False, download=True, transform=transform)\n",
        "\n",
        "# prepare data loaders\n",
        "train_loader = torch.utils.data.DataLoader(train_data, batch_size=batch_size, num_workers=num_workers)\n",
        "\n",
        "test_loader = torch.utils.data.DataLoader(test_data, batch_size=batch_size, num_workers=num_workers)"
      ],
      "execution_count": 3,
      "outputs": [
        {
          "output_type": "stream",
          "text": [
            "Downloading http://yann.lecun.com/exdb/mnist/train-images-idx3-ubyte.gz to data/MNIST/raw/train-images-idx3-ubyte.gz\n"
          ],
          "name": "stdout"
        },
        {
          "output_type": "display_data",
          "data": {
            "application/vnd.jupyter.widget-view+json": {
              "model_id": "23a95777176144a2a5fbdd093bcdd1c2",
              "version_minor": 0,
              "version_major": 2
            },
            "text/plain": [
              "HBox(children=(IntProgress(value=1, bar_style='info', max=1), HTML(value='')))"
            ]
          },
          "metadata": {
            "tags": []
          }
        },
        {
          "output_type": "stream",
          "text": [
            "\n",
            "Extracting data/MNIST/raw/train-images-idx3-ubyte.gz to data/MNIST/raw\n",
            "Downloading http://yann.lecun.com/exdb/mnist/train-labels-idx1-ubyte.gz to data/MNIST/raw/train-labels-idx1-ubyte.gz\n"
          ],
          "name": "stdout"
        },
        {
          "output_type": "display_data",
          "data": {
            "application/vnd.jupyter.widget-view+json": {
              "model_id": "ddbdcd2b0f044dc48f3cbb9a1d0e2e63",
              "version_minor": 0,
              "version_major": 2
            },
            "text/plain": [
              "HBox(children=(IntProgress(value=1, bar_style='info', max=1), HTML(value='')))"
            ]
          },
          "metadata": {
            "tags": []
          }
        },
        {
          "output_type": "stream",
          "text": [
            "\n",
            "Extracting data/MNIST/raw/train-labels-idx1-ubyte.gz to data/MNIST/raw\n",
            "Downloading http://yann.lecun.com/exdb/mnist/t10k-images-idx3-ubyte.gz to data/MNIST/raw/t10k-images-idx3-ubyte.gz\n"
          ],
          "name": "stdout"
        },
        {
          "output_type": "display_data",
          "data": {
            "application/vnd.jupyter.widget-view+json": {
              "model_id": "d79c3cda5a5843c28a1947c628a379d4",
              "version_minor": 0,
              "version_major": 2
            },
            "text/plain": [
              "HBox(children=(IntProgress(value=1, bar_style='info', max=1), HTML(value='')))"
            ]
          },
          "metadata": {
            "tags": []
          }
        },
        {
          "output_type": "stream",
          "text": [
            "\n",
            "Extracting data/MNIST/raw/t10k-images-idx3-ubyte.gz to data/MNIST/raw\n",
            "Downloading http://yann.lecun.com/exdb/mnist/t10k-labels-idx1-ubyte.gz to data/MNIST/raw/t10k-labels-idx1-ubyte.gz\n"
          ],
          "name": "stdout"
        },
        {
          "output_type": "display_data",
          "data": {
            "application/vnd.jupyter.widget-view+json": {
              "model_id": "aea26a7680fe40e0a3c720f19c87b01d",
              "version_minor": 0,
              "version_major": 2
            },
            "text/plain": [
              "HBox(children=(IntProgress(value=1, bar_style='info', max=1), HTML(value='')))"
            ]
          },
          "metadata": {
            "tags": []
          }
        },
        {
          "output_type": "stream",
          "text": [
            "\n",
            "Extracting data/MNIST/raw/t10k-labels-idx1-ubyte.gz to data/MNIST/raw\n",
            "Processing...\n",
            "Done!\n"
          ],
          "name": "stdout"
        }
      ]
    },
    {
      "cell_type": "markdown",
      "metadata": {
        "id": "V9Utm9s_6gDT",
        "colab_type": "text"
      },
      "source": [
        "###### Visualize Training Data\n"
      ]
    },
    {
      "cell_type": "code",
      "metadata": {
        "id": "6Kv6nCd96gDX",
        "colab_type": "code",
        "colab": {
          "base_uri": "https://localhost:8080/",
          "height": 288
        },
        "outputId": "d11ee669-3755-4780-93d6-4da8e9569ba3"
      },
      "source": [
        "import matplotlib.pyplot as plt\n",
        "%matplotlib inline\n",
        "    \n",
        "# obtain one batch of training images\n",
        "dataiter = iter(train_loader)\n",
        "images, labels = dataiter.next()\n",
        "images = images.numpy()\n",
        "\n",
        "# plot the images in the batch, along with the corresponding labels\n",
        "fig = plt.figure(figsize=(25, 4))\n",
        "for idx in np.arange(batch_size):\n",
        "    ax = fig.add_subplot(2, batch_size/2, idx+1, xticks=[], yticks=[])\n",
        "    ax.imshow(np.squeeze(images[idx]), cmap='gray')\n",
        "    # print out the correct label for each image\n",
        "    # .item() gets the value contained in a Tensor\n",
        "    ax.set_title(str(labels[idx].item()))"
      ],
      "execution_count": 4,
      "outputs": [
        {
          "output_type": "display_data",
          "data": {
            "image/png": "[encoded data removed]",
            "text/plain": [
              "<Figure size 1800x288 with 20 Axes>"
            ]
          },
          "metadata": {
            "tags": []
          }
        }
      ]
    },
    {
      "cell_type": "markdown",
      "metadata": {
        "id": "OWCWWn876gDk",
        "colab_type": "text"
      },
      "source": [
        "###### Encoder\n",
        "The encoder is made of a series of layers that are responsible for taking in as input a 28 by 28 MNIST image and learning to encode it into a 16-dimensional output vector.\n",
        "\n",
        "###### First Layer: Convolutional Layer\n",
        "The first layer in our encoder is a convolutional layer that will learn to extract features, like edges, in a given input image.\n",
        "\n",
        "> This first convolutional layer has a `depth=256`, and uses a `kernel_size=9`, `stride=1`, and `padding=0`. This also calls for a `ReLu` activation on the outputs.\n",
        "\n",
        "So, this convolutional layer will create a stack of 256 filtered images, given one input MNIST image.\n",
        "\n",
        "For a 28x28 input image, a 9x9 kernel will not be able to perfectly overlay on the edges pixels of an image and, without any padding, I'll actually lose a border of 4 pixels on each side of the image as I filter it. So, for an input of size `(batch_size, 28, 28, 1)`, I'll get an output, convolutional layer with the dimensions `(batch_size, 20, 20, 256)`. And batch_size is just the number of input images that are processed in a batch; defined above in the `DataLoader` as `20`."
      ]
    },
    {
      "cell_type": "code",
      "metadata": {
        "id": "uZ4rm1Qj6gDn",
        "colab_type": "code",
        "colab": {}
      },
      "source": [
        "import torch.nn as nn\n",
        "import torch.nn.functional as F"
      ],
      "execution_count": 0,
      "outputs": []
    },
    {
      "cell_type": "code",
      "metadata": {
        "id": "oSM0QV6x6gD0",
        "colab_type": "code",
        "colab": {}
      },
      "source": [
        "class ConvLayer(nn.Module):\n",
        "    \n",
        "    def __init__(self, in_channels=1, out_channels=256):\n",
        "        '''Constructs the ConvLayer with a specified input and output size.\n",
        "           param in_channels: input depth of an image, default value = 1\n",
        "           param out_channels: output depth of the convolutional layer, default value = 256\n",
        "           '''\n",
        "        super(ConvLayer, self).__init__()\n",
        "\n",
        "        # defining a convolutional layer of the specified size\n",
        "        self.conv = nn.Conv2d(in_channels, out_channels, kernel_size=9, stride=1, padding=0)\n",
        "\n",
        "    def forward(self, x):\n",
        "        '''Defines the feedforward behavior.\n",
        "           param x: the input to the layer; an input image\n",
        "           return: a relu-activated, convolutional layer\n",
        "           '''\n",
        "        # applying a ReLu activation to the outputs of the conv layer\n",
        "        features = F.relu(self.conv(x)) # will have dimensions (batch_size, 20, 20, 256)\n",
        "        return features\n",
        "    "
      ],
      "execution_count": 0,
      "outputs": []
    },
    {
      "cell_type": "markdown",
      "metadata": {
        "id": "P06jgn9d6gEA",
        "colab_type": "text"
      },
      "source": [
        "###### Second Layer: Primary Capsules\n",
        "\n",
        "This layer is composed of 8 \"primary\" capsules, so called because they are the first layer of capsules. They take the output of the previously defined, convolutional layer as input and produce a set of output vectors. Essentially, each capsule is responsible for producing weighted combinations of the features detected in the previous convolutional layer. \n",
        "\n",
        "To get the output of one capsule, We'll:\n",
        ">* Define a convolutional layer with a `depth=32`, `kernel_size=9`, `**stride=2**`, and `padding=0` and apply it to the features from the previous layer.\n",
        "* By applying a convolutional layer to features of size `(batch_size, 20, 20, 256)`, We will get a `(batch_size, 6, 6, 32)` Tensor as output for each of the 8 capsules. \n",
        "* We'll **reshape** this into an output vector using `.view(batch_size, 32*6*6, 1)`, for each of our 8 capsules and then stack those vectors.\n",
        "* Finally, We'll **squash** all of these vector; this is a nonlinear normalization step that forces the magnitude of the vectors to be in the range 0-1. \n",
        "\n",
        "###### A note on calculating dimensions\n",
        "\n",
        "how We got from 20x20 to 6x6.\n",
        "\n",
        "We're creating a border of 4 pixels on each side with a kernel_size of 9. So, We'll go from an x-y size of 20 - 4 on *all* sides to a size of 12. Then, with a `stride=2`, We're efectively downsampling the previous inputs by a factor of 2, so We go from an x-y size of 12, divided by 2, to get an x-y size of 6. \n",
        "\n",
        "###### Squashing\n",
        "\n",
        "> The magnitude of an output, capsule vector is a value between 0 and 1 that indicates the probability that a visual part (eyes, nose, etc.) exists and has been detected in an image. \n",
        "\n",
        "To get this probability value, We define a nonlinear function `squash` that calculates a certain capsule's normalized, vector output using the following equation. \n",
        "\n",
        "$$ v_j = \\frac{||\\ s_j^2\\ ||\\ s_j }{1 + ||\\ s_j^2\\ ||\\ s_j } $$\n",
        "\n",
        "$v_j$ is the value We want to calculate, the normalized vector output of a capsule $j$. And $s_j$ is that capsule's total input; a weighted sum over all the output vectors from the capsules in the layer *below* capsule $j$. For all but the primary capsule layer, you can think of the weighted inputs as the number of smaller *parts* that think they are part of a larger whole. The idea is that if you detect a nose and eyes in one layer, with some probability (the magnitude of a vector), this is evidence that a larger face exists in the next layer.\n",
        "\n",
        "> The `squash` function is a nonlinear function of the weighted inputs to a single capsule. It ensures that the magnitude of $v_j$ is a value between 0 and 1.\n",
        "\n",
        "###### ModuleList\n",
        "\n",
        "We'll taking advantage of PyTorch's [nn.ModuleList](https://pytorch.org/docs/stable/nn.html#modulelist) container to create a list of convolutional layers that is as long as my number of passed in capsules, `num_capsules`."
      ]
    },
    {
      "cell_type": "code",
      "metadata": {
        "id": "SKHeS4bl6gEE",
        "colab_type": "code",
        "colab": {}
      },
      "source": [
        "class PrimaryCaps(nn.Module):\n",
        "    \n",
        "    def __init__(self, num_capsules=8, in_channels=256, out_channels=32):\n",
        "        '''Constructs a list of convolutional layers to be used in \n",
        "           creating capsule output vectors.\n",
        "           param num_capsules: number of capsules to create\n",
        "           param in_channels: input depth of features, default value = 256\n",
        "           param out_channels: output depth of the convolutional layers, default value = 32\n",
        "           '''\n",
        "        super(PrimaryCaps, self).__init__()\n",
        "\n",
        "        # creating a list of convolutional layers for each capsule I want to create\n",
        "        # all capsules have a conv layer with the same parameters\n",
        "        self.capsules = nn.ModuleList([\n",
        "            nn.Conv2d(in_channels=in_channels, out_channels=out_channels, kernel_size=9, stride=2, padding=0)\n",
        "            for _ in range(num_capsules)])\n",
        "    \n",
        "    def forward(self, x):\n",
        "        '''Defines the feedforward behavior.\n",
        "           param x: the input; features from a convolutional layer\n",
        "           return: a set of normalized, capsule output vectors\n",
        "           '''\n",
        "        # get batch size of inputs\n",
        "        batch_size = x.size(0)\n",
        "        # reshape convolutional layer outputs to be (batch_size, vector_dim=1152, 1)\n",
        "        u = [capsule(x).view(batch_size, 32 * 6 * 6, 1) for capsule in self.capsules]\n",
        "        # stack up output vectors, u, one for each capsule\n",
        "        u = torch.cat(u, dim=-1)\n",
        "        # squashing the stack of vectors\n",
        "        u_squash = self.squash(u)\n",
        "        return u_squash\n",
        "    \n",
        "    def squash(self, input_tensor):\n",
        "        '''Squashes an input Tensor so it has a magnitude between 0-1.\n",
        "           param input_tensor: a stack of capsule inputs, s_j\n",
        "           return: a stack of normalized, capsule output vectors, v_j\n",
        "           '''\n",
        "        squared_norm = (input_tensor ** 2).sum(dim=-1, keepdim=True)\n",
        "        scale = squared_norm / (1 + squared_norm) # normalization coeff\n",
        "        output_tensor = scale * input_tensor / torch.sqrt(squared_norm)    \n",
        "        return output_tensor\n",
        "    "
      ],
      "execution_count": 0,
      "outputs": []
    },
    {
      "cell_type": "markdown",
      "metadata": {
        "id": "mw1wLQ976gEO",
        "colab_type": "text"
      },
      "source": [
        "###### Third Layer: Digit Capsules\n",
        "This layer is composed of 10 \"digit\" capsules, one for each of our digit classes 0-9. Each capsule takes, as input, a batch of 1152-dimensional vectors produced by our 8 primary capsules, above.\n",
        "\n",
        "> This is the final layer of the encoder portion of the network, and each of these 10 capsules is responsible for producing a 16-dimensional output vector.\n",
        "\n",
        "In other words, this layer is mapping from 1152-dimensional, input vector space to 16-dimensional, output vector space. This is also where you'll see **dynamic routing** implemented."
      ]
    },
    {
      "cell_type": "markdown",
      "metadata": {
        "id": "MSFV_ZyT6gEP",
        "colab_type": "text"
      },
      "source": [
        "###### Dynamic Routing\n",
        "Dynamic routing is an iterative process that updates these coupling coefficients. The coupling coefficients $c_{ij}$ between capsule $i$ and all the capsules $j$ in the layer above it sum to 1 and are determined by a routing **softmax** function whose initial logits $b_{ij}$ are the log prior probabilities that capsule $i$ *should* be coupled to capsule $j$. There are as many $b_{ij}$ as there are possible connections between the output vector of a primary capsule (length 1152) and digit capsules (10).\n",
        "\n",
        "\n",
        "$$c_{ij} = \\frac{e^{\\ b_{ij}}}{\\sum_{k}\\ {e^{\\ b_{ik}}}} $$\n",
        "\n",
        "The update process, performed during network training, is as follows for a single capsule:\n",
        "\n",
        "> 1. Every child capsule will output some vector $u$, whose magnitude indicates a part's *existence* and whose orientation represents the generalized pose of the part.\n",
        "2. For each possible parent, a child capsule computes a prediction vector, $\\hat{u}$, which is a function of its output vector, $u$, times a weight matrix, $W$. $W$ represents a linear transformation in space—like some rotation and translation—$\\hat{u}$ can be thought of as a prediction about the position and orientation of a parent capsule's output vector.\n",
        "3. If the prediction vector, $\\hat{u}$, has a large **dot product** with the parent capsule output vector, $v$, then those vectors are said to **agree** and the coupling coefficient between *that* parent and the child capsule increases while the coupling coefficient between that child capsule and *all other* parents, decreases.\n",
        "4. This dot product between the parent output vector, $v$, and a prediction vector, $\\hat{u}$, is known as a formal measure of capsule **agreement**, $a$.\n",
        "5. This agreement then affects how informaton is weighted as it moved through the network.\n",
        "6. A new $b_{ij}$ is calculated as the *current* $b_{ij}$ plus $a$.\n",
        "7. New coupling coefficients $c_{ij}$ are calculated using the above softmax formula and the new $b_{ij}$.\n",
        "\n",
        "$$\\hat{u} = W u $$\n",
        "\n",
        "$$a = v \\cdot u $$\n",
        "\n",
        "$$b_{ij} = b_{ij} + a $$\n",
        "\n",
        "\n",
        "\n",
        "This is sometimes referred to as **top-down feedback**; feedback from a later layer of parent capsule outputs.\n",
        "\n",
        "**A typical training process may include *three* agreement iterations, in which $b_{ij}$ is updated (through steps 1-7), a total of three times to get to the final coupling coefficients that will be used to calculate final outputs, $v_j$.**\n",
        "\n",
        "> A high coupling coefficient, between a child and parent capsule, increases the contribution of the child to that parent, thus *further* aligning their two output vectors and making their agreement dot product even larger! This is called **routing by agreement**.\n",
        "\n",
        "I should note that this calculation changes how I calculate the total inputs to a digit capsule, $s_j$, when compared to the earlier, `PrimaryCaps` layer. In the `DigitCaps` case, $s_j$ is a sum of all the input vectors from the capsules in the layer *below*, $u$ times the weight matrix $W$, in other words $W u = \\hat{u}$, *also* multiplied by the coupling coefficients. The first layer of capsules sees only convolutional features as input and these features do not provide enough information for routing and using couping coefficients.\n",
        "\n",
        "$$ s_j = \\sum{c_{ij} \\ \\hat{u}}$$"
      ]
    },
    {
      "cell_type": "code",
      "metadata": {
        "id": "gEhmMcv876gD",
        "colab_type": "code",
        "colab": {}
      },
      "source": [
        "import torch\n",
        "import torch.nn.functional as F\n",
        "\n",
        "def softmax(input_tensor, dim=1):\n",
        "    # transpose input\n",
        "    transposed_input = input_tensor.transpose(dim, len(input_tensor.size()) - 1)\n",
        "    # calculate softmax\n",
        "    softmaxed_output = F.softmax(transposed_input.contiguous().view(-1, transposed_input.size(-1)), dim=-1)\n",
        "    # un-transpose result\n",
        "    return softmaxed_output.view(*transposed_input.size()).transpose(dim, len(input_tensor.size()) - 1)"
      ],
      "execution_count": 0,
      "outputs": []
    },
    {
      "cell_type": "code",
      "metadata": {
        "id": "hNbTGs7T6gEQ",
        "colab_type": "code",
        "colab": {}
      },
      "source": [
        "# import helpers # to get transpose softmax function\n",
        "\n",
        "# dynamic routing\n",
        "def dynamic_routing(b_ij, u_hat, squash, routing_iterations=3):\n",
        "    '''Performs dynamic routing between two capsule layers.\n",
        "       param b_ij: initial log probabilities that capsule i should be coupled to capsule j\n",
        "       param u_hat: input, weighted capsule vectors, W u\n",
        "       param squash: given, normalizing squash function\n",
        "       param routing_iterations: number of times to update coupling coefficients\n",
        "       return: v_j, output capsule vectors\n",
        "       '''    \n",
        "    # update b_ij, c_ij for number of routing iterations\n",
        "    for iteration in range(routing_iterations):\n",
        "        # softmax calculation of coupling coefficients, c_ij\n",
        "        c_ij = softmax(b_ij, dim=2)\n",
        "\n",
        "        # calculating total capsule inputs, s_j = sum(c_ij*u_hat)\n",
        "        s_j = (c_ij * u_hat).sum(dim=2, keepdim=True)\n",
        "\n",
        "        # squashing to get a normalized vector output, v_j\n",
        "        v_j = squash(s_j)\n",
        "\n",
        "        # if not on the last iteration, calculate agreement and new b_ij\n",
        "        if iteration < routing_iterations - 1:\n",
        "            # agreement\n",
        "            a_ij = (u_hat * v_j).sum(dim=-1, keepdim=True)\n",
        "            \n",
        "            # new b_ij\n",
        "            b_ij = b_ij + a_ij\n",
        "    \n",
        "    return v_j # return latest v_j\n",
        "    "
      ],
      "execution_count": 0,
      "outputs": []
    },
    {
      "cell_type": "markdown",
      "metadata": {
        "id": "-DjudyP86gEX",
        "colab_type": "text"
      },
      "source": [
        "###### Digit Capsules\n",
        "\n",
        "Now that W've defined the dynamic routing process, I can complete the `DigitCaps` class.\n",
        "* This layer is composed of 10 \"digit\" capsules, one for each of our digit classes 0-9. \n",
        "* Each capsule takes, as input, a batch of 1152-dimensional vectors produced by our 8 primary capsules, above. \n",
        "* Each of these 10 capsules is responsible for producing a **16-dimensional** output vector.\n",
        "\n",
        " Now We check for the availability of a GPU device, below"
      ]
    },
    {
      "cell_type": "code",
      "metadata": {
        "id": "cmp4O-5S6gEb",
        "colab_type": "code",
        "colab": {
          "base_uri": "https://localhost:8080/",
          "height": 34
        },
        "outputId": "d8931051-e60f-4ffb-aecb-97e6a3cd5c03"
      },
      "source": [
        "# it will also be relevant, in this model, to see if I can train on gpu\n",
        "TRAIN_ON_GPU = torch.cuda.is_available()\n",
        "\n",
        "if(TRAIN_ON_GPU):\n",
        "    print('Training on GPU!')\n",
        "else:\n",
        "    print('Only CPU available')\n",
        "    "
      ],
      "execution_count": 10,
      "outputs": [
        {
          "output_type": "stream",
          "text": [
            "Training on GPU!\n"
          ],
          "name": "stdout"
        }
      ]
    },
    {
      "cell_type": "code",
      "metadata": {
        "id": "0ZA-_i5z6gEi",
        "colab_type": "code",
        "colab": {}
      },
      "source": [
        "class DigitCaps(nn.Module):\n",
        "    \n",
        "    def __init__(self, num_capsules=10, previous_layer_nodes=32*6*6, \n",
        "                 in_channels=8, out_channels=16):\n",
        "        '''Constructs an initial weight matrix, W, and sets class variables.\n",
        "           param num_capsules: number of capsules to create\n",
        "           param previous_layer_nodes: dimension of input capsule vector, default value = 1152\n",
        "           param in_channels: number of capsules in previous layer, default value = 8\n",
        "           param out_channels: dimensions of output capsule vector, default value = 16\n",
        "           '''\n",
        "        super(DigitCaps, self).__init__()\n",
        "\n",
        "        # setting class variables\n",
        "        self.num_capsules = num_capsules\n",
        "        self.previous_layer_nodes = previous_layer_nodes # vector input (dim=1152)\n",
        "        self.in_channels = in_channels # previous layer's number of capsules\n",
        "\n",
        "        # starting out with a randomly initialized weight matrix, W\n",
        "        # these will be the weights connecting the PrimaryCaps and DigitCaps layers\n",
        "        self.W = nn.Parameter(torch.randn(num_capsules, previous_layer_nodes, in_channels, out_channels))\n",
        "\n",
        "    def forward(self, u):\n",
        "        '''Defines the feedforward behavior.\n",
        "           param u: the input; vectors from the previous PrimaryCaps layer\n",
        "           return: a set of normalized, capsule output vectors\n",
        "           '''\n",
        "        \n",
        "        # adding batch_size dims and stacking all u vectors\n",
        "        u = u[None, :, :, None, :]\n",
        "        # 4D weight matrix\n",
        "        W = self.W[:, None, :, :, :]\n",
        "        \n",
        "        # calculating u_hat = W*u\n",
        "        u_hat = torch.matmul(u, W)\n",
        "\n",
        "        # getting the correct size of b_ij\n",
        "        # setting them all to 0, initially\n",
        "        b_ij = torch.zeros(*u_hat.size())\n",
        "        \n",
        "        # moving b_ij to GPU, if available\n",
        "        if TRAIN_ON_GPU:\n",
        "            b_ij = b_ij.cuda()\n",
        "\n",
        "        # update coupling coefficients and calculate v_j\n",
        "        v_j = dynamic_routing(b_ij, u_hat, self.squash, routing_iterations=3)\n",
        "\n",
        "        return v_j # return final vector outputs\n",
        "    \n",
        "    \n",
        "    def squash(self, input_tensor):\n",
        "        '''Squashes an input Tensor so it has a magnitude between 0-1.\n",
        "           param input_tensor: a stack of capsule inputs, s_j\n",
        "           return: a stack of normalized, capsule output vectors, v_j\n",
        "           '''\n",
        "        # same squash function as before\n",
        "        squared_norm = (input_tensor ** 2).sum(dim=-1, keepdim=True)\n",
        "        scale = squared_norm / (1 + squared_norm) # normalization coeff\n",
        "        output_tensor = scale * input_tensor / torch.sqrt(squared_norm)    \n",
        "        return output_tensor\n",
        "    "
      ],
      "execution_count": 0,
      "outputs": []
    },
    {
      "cell_type": "markdown",
      "metadata": {
        "id": "K41JuVF96gEs",
        "colab_type": "text"
      },
      "source": [
        "###### Decoder \n",
        "\n",
        "The decoder sees as input the 16-dimensional vectors that are produced by the `DigitCaps` layer. In the `forward` function, the decoder identifies the \"correct\" capsule output vector; this vector is the vector with the largest vector magnitude of all ten digit capsule outputs (recall that vector magnitude correspond to a part's **existence** in an image). Then, the decoder upsamples that one vector, decoding it into a reconstructed image of a handwritten digit. \n",
        "\n",
        "> The decoder is learning a mapping from a capsule output vector to a 784-dim vector that can be reshaped into a 28x28 reconstructed image. \n",
        "\n",
        "I want this reconstructed image and the original, input image to be as close as possible! So, when I train this network, I'll look at the difference between the input image and this decoder reconstruction; any difference (measured as Euclidean distance) will be recorded as the loss.\n",
        "\n",
        "###### Reconstruction Loss\n",
        "I'll discuss the network loss in more detail later. For now, know that the authors use this decoder-based, reconstruction loss to encourage the digit capsules to learn to encode information about the content of the original input image.\n",
        "\n",
        "###### Linear Layers\n",
        "\n",
        "The decoder is made of three fully-connected, linear layers. These are simply defined with an input_size and output_size. The first layer sees the 10, 16-dimensional output vectors from the digit capsule layer and produces `hidden_dim=512` number of outputs. The next hidden layer just increase this depth by two, and the third and final linear layer produces an output of 784 values that can be reshaped into a 28x28 image!\n",
        "\n",
        "The hidden layers have ReLu activations applied and the final, output layer has a **sigmoid** activation function to ensure that the outputs are all values in a valid pixel range 0-1."
      ]
    },
    {
      "cell_type": "code",
      "metadata": {
        "id": "9uaUmnPn6gEu",
        "colab_type": "code",
        "colab": {}
      },
      "source": [
        "class Decoder(nn.Module):\n",
        "    \n",
        "    def __init__(self, input_vector_length=16, input_capsules=10, hidden_dim=512):\n",
        "        '''Constructs an series of linear layers + activations.\n",
        "           param input_vector_length: dimension of input capsule vector, default value = 16\n",
        "           param input_capsules: number of capsules in previous layer, default value = 10\n",
        "           param hidden_dim: dimensions of hidden layers, default value = 512\n",
        "           '''\n",
        "        super(Decoder, self).__init__()\n",
        "        \n",
        "        # calculate input_dim\n",
        "        input_dim = input_vector_length * input_capsules\n",
        "        \n",
        "        # define linear layers + activations\n",
        "        self.linear_layers = nn.Sequential(\n",
        "            nn.Linear(input_dim, hidden_dim), # first hidden layer\n",
        "            nn.ReLU(inplace=True),\n",
        "            nn.Linear(hidden_dim, hidden_dim*2), # second, twice as deep\n",
        "            nn.ReLU(inplace=True),\n",
        "            nn.Linear(hidden_dim*2, 28*28), # can be reshaped into 28*28 image\n",
        "            nn.Sigmoid() # sigmoid activation to get output pixel values in a range from 0-1\n",
        "            )\n",
        "        \n",
        "    def forward(self, x):\n",
        "        '''Defines the feedforward behavior.\n",
        "           param x: the input; vectors from the previous DigitCaps layer\n",
        "           return: two things, reconstructed images and the class scores, y\n",
        "           '''\n",
        "        classes = (x ** 2).sum(dim=-1) ** 0.5\n",
        "        classes = F.softmax(classes, dim=-1)\n",
        "        \n",
        "        # find the capsule with the maximum vector length\n",
        "        # here, vector length indicates the probability of a class' existence\n",
        "        _, max_length_indices = classes.max(dim=1)\n",
        "        \n",
        "        # create a sparse class matrix\n",
        "        sparse_matrix = torch.eye(10) # 10 is the number of classes\n",
        "        if TRAIN_ON_GPU:\n",
        "            sparse_matrix = sparse_matrix.cuda()\n",
        "        # get the class scores from the \"correct\" capsule\n",
        "        y = sparse_matrix.index_select(dim=0, index=max_length_indices.data)\n",
        "        \n",
        "        # create reconstructed pixels\n",
        "        x = x * y[:, :, None]\n",
        "        # flatten image into a vector shape (batch_size, vector_dim)\n",
        "        flattened_x = x.contiguous().view(x.size(0), -1)\n",
        "        # create reconstructed image vectors\n",
        "        reconstructions = self.linear_layers(flattened_x)\n",
        "        \n",
        "        # return reconstructions and the class scores, y\n",
        "        return reconstructions, y"
      ],
      "execution_count": 0,
      "outputs": []
    },
    {
      "cell_type": "markdown",
      "metadata": {
        "id": "zXe9gBUg6gEz",
        "colab_type": "text"
      },
      "source": [
        "###### Put it All Together \n",
        "\n",
        "Finally, I'll use *all* the layers I defined above to create a complete Capsule Network! Recall that the order of these layers is as follows:\n",
        "1. ConvLayer\n",
        "2. PrimaryCaps\n",
        "3. DigitCaps\n",
        "4. Decoder"
      ]
    },
    {
      "cell_type": "code",
      "metadata": {
        "id": "tc-dUGgy6gE1",
        "colab_type": "code",
        "colab": {}
      },
      "source": [
        "class CapsuleNetwork(nn.Module):\n",
        "    \n",
        "    def __init__(self):\n",
        "        '''Constructs a complete Capsule Network.'''\n",
        "        super(CapsuleNetwork, self).__init__()\n",
        "        self.conv_layer = ConvLayer()\n",
        "        self.primary_capsules = PrimaryCaps()\n",
        "        self.digit_capsules = DigitCaps()\n",
        "        self.decoder = Decoder()\n",
        "                \n",
        "    def forward(self, images):\n",
        "        '''Defines the feedforward behavior.\n",
        "           param images: the original MNIST image input data\n",
        "           return: output of DigitCaps layer, reconstructed images, class scores\n",
        "           '''\n",
        "        primary_caps_output = self.primary_capsules(self.conv_layer(images))\n",
        "        caps_output = self.digit_capsules(primary_caps_output).squeeze().transpose(0,1)\n",
        "        reconstructions, y = self.decoder(caps_output)\n",
        "        return caps_output, reconstructions, y\n",
        "    "
      ],
      "execution_count": 0,
      "outputs": []
    },
    {
      "cell_type": "markdown",
      "metadata": {
        "id": "GsYi1saZ6gE7",
        "colab_type": "text"
      },
      "source": [
        "###### Create the Complete Model"
      ]
    },
    {
      "cell_type": "code",
      "metadata": {
        "id": "eni64kSq6gE9",
        "colab_type": "code",
        "colab": {
          "base_uri": "https://localhost:8080/",
          "height": 493
        },
        "outputId": "5b05561e-1215-4841-fe92-37ecf95efd3e"
      },
      "source": [
        "# instantiate and print net\n",
        "capsule_net = CapsuleNetwork()\n",
        "\n",
        "print(capsule_net)\n",
        "\n",
        "# move model to GPU, if available \n",
        "if TRAIN_ON_GPU:\n",
        "    capsule_net = capsule_net.cuda()"
      ],
      "execution_count": 21,
      "outputs": [
        {
          "output_type": "stream",
          "text": [
            "CapsuleNetwork(\n",
            "  (conv_layer): ConvLayer(\n",
            "    (conv): Conv2d(1, 256, kernel_size=(9, 9), stride=(1, 1))\n",
            "  )\n",
            "  (primary_capsules): PrimaryCaps(\n",
            "    (capsules): ModuleList(\n",
            "      (0): Conv2d(256, 32, kernel_size=(9, 9), stride=(2, 2))\n",
            "      (1): Conv2d(256, 32, kernel_size=(9, 9), stride=(2, 2))\n",
            "      (2): Conv2d(256, 32, kernel_size=(9, 9), stride=(2, 2))\n",
            "      (3): Conv2d(256, 32, kernel_size=(9, 9), stride=(2, 2))\n",
            "      (4): Conv2d(256, 32, kernel_size=(9, 9), stride=(2, 2))\n",
            "      (5): Conv2d(256, 32, kernel_size=(9, 9), stride=(2, 2))\n",
            "      (6): Conv2d(256, 32, kernel_size=(9, 9), stride=(2, 2))\n",
            "      (7): Conv2d(256, 32, kernel_size=(9, 9), stride=(2, 2))\n",
            "    )\n",
            "  )\n",
            "  (digit_capsules): DigitCaps()\n",
            "  (decoder): Decoder(\n",
            "    (linear_layers): Sequential(\n",
            "      (0): Linear(in_features=160, out_features=512, bias=True)\n",
            "      (1): ReLU(inplace=True)\n",
            "      (2): Linear(in_features=512, out_features=1024, bias=True)\n",
            "      (3): ReLU(inplace=True)\n",
            "      (4): Linear(in_features=1024, out_features=784, bias=True)\n",
            "      (5): Sigmoid()\n",
            "    )\n",
            "  )\n",
            ")\n"
          ],
          "name": "stdout"
        }
      ]
    },
    {
      "cell_type": "markdown",
      "metadata": {
        "id": "euwxHKrQ6gFC",
        "colab_type": "text"
      },
      "source": [
        "###### Custom Loss\n",
        "\n",
        "To prepare for training the model, We'll need to define a custom loss. The loss for a capsule network is a weighted combination of **two** losses:\n",
        "1. The **margin loss** that looks at the outputs of *all* the digit capsules and computes a loss term that is dependent on whether or not the selected \"correct\" digit capsule matches the correct class label.\n",
        "2. The **reconstruction loss** that looks at the original input images and how they differ from the decoder's produced, reconstructed images. \n",
        "\n",
        "The reconstruction loss is a simple mean squared error loss, which I will calculate as `nn.MSELoss`. And I explained that this acts as a kind of [regularization method](https://en.wikipedia.org/wiki/Regularization_(mathematics)), above. By regularization, I mean that it forces the 16 dimensions (in the output vectors from the `DigitCaps` layer) to correspond to meaningful content information; information that can then be used to *reconstruct* the original image. It is important to note that the authors of the original Capsule Net paper weighted this loss with a coefficient of `0.0005`, so that it wouldn't overpower the margin loss, and that is reflected in the code below.\n",
        "\n",
        "So, I really want to focus on describing this new type of loss, the margin loss.\n",
        "\n",
        "###### Margin Loss\n",
        "\n",
        "Margin loss is a classification loss that is based on the length of the output vectors coming from the `DigitCaps` layer. Recall that the magnitude of a capsule output vector is a measure of a part's **existence**. So, for any input image of a handwritten digit, we want *one* particular digit capsule to output a long vector, indicating confidence in one particular digit class! This capsule is sometimes referred to as the \"correct\" capsule.\n",
        "\n",
        "Margin loss formalizes this idea; it says that if a certain digit (in this case a digit 0-9) is present in an image then the squared length of the corresponding output vector of that digit capsule must not be less than 0.9. So, if I have an input image of a 0, then the \"correct,\" zero-detecting, digit capsule should output a vector of magnitude 0.9 or greater! For all the other digits (1-9, in this example) the corresponding digit capsule output vectors should have a magnitude that is 0.1 or less.\n",
        "\n",
        "Suppose $x$ is the the output vector of the digit capsule for class $c$ (0-9). \n",
        "\n",
        "Now, if an image of class $c$ is present then the magnitude of $x$ should be equal to or greater than 0.9. The magnitude is the square root of a squared value, and I'll call that magnitude $v_c = \\sqrt{x^2}$, so $v_c >=0.9$. Similarly, if the class $c$ digit is *not* present in an image, then $v_c <=0.1$.  These values will be summed together to calculate the total, margin loss. Which you can see in the following formula.\n",
        "\n",
        "$$L_c = T_c(\\max[0, 0.9-v_c]) + \\lambda (1-T_c)(\\max[0, v_c-0.1])$$\n",
        "\n",
        "Where $T_c$ is a label 0 or 1 indicating whether a digit capsule vector is \"correct\" (1) or not (0). And $\\lambda$ is a value we choose for training; the researchers chose a value of `0.5`. These choices are reflected in the code below, *and* I'm using a ReLu function to get the maximum of 0 and another value.\n",
        "\n",
        "\n",
        "This loss will encourage our model to make the index of the \"correct\" capsule match the true class label of a given training image.\n",
        "\n"
      ]
    },
    {
      "cell_type": "code",
      "metadata": {
        "id": "ZyEk0Jq16gFD",
        "colab_type": "code",
        "colab": {}
      },
      "source": [
        "class CapsuleLoss(nn.Module):\n",
        "    \n",
        "    def __init__(self):\n",
        "        '''Constructs a CapsuleLoss module.'''\n",
        "        super(CapsuleLoss, self).__init__()\n",
        "        self.reconstruction_loss = nn.MSELoss(reduction='sum') # cumulative loss, equiv to size_average=False\n",
        "\n",
        "    def forward(self, x, labels, images, reconstructions):\n",
        "        '''Defines how the loss compares inputs.\n",
        "           param x: digit capsule outputs\n",
        "           param labels: \n",
        "           param images: the original MNIST image input data\n",
        "           param reconstructions: reconstructed MNIST image data\n",
        "           return: weighted margin and reconstruction loss, averaged over a batch\n",
        "           '''\n",
        "        batch_size = x.size(0)\n",
        "\n",
        "        ##  calculate the margin loss   ##\n",
        "        \n",
        "        # get magnitude of digit capsule vectors, v_c\n",
        "        v_c = torch.sqrt((x**2).sum(dim=2, keepdim=True))\n",
        "\n",
        "        # calculate \"correct\" and incorrect loss\n",
        "        left = F.relu(0.9 - v_c).view(batch_size, -1)\n",
        "        right = F.relu(v_c - 0.1).view(batch_size, -1)\n",
        "        \n",
        "        # sum the losses, with a lambda = 0.5\n",
        "        margin_loss = labels * left + 0.5 * (1. - labels) * right\n",
        "        margin_loss = margin_loss.sum()\n",
        "\n",
        "        ##  calculate the reconstruction loss   ##\n",
        "        images = images.view(reconstructions.size()[0], -1)\n",
        "        reconstruction_loss = self.reconstruction_loss(reconstructions, images)\n",
        "\n",
        "        # return a weighted, summed loss, averaged over a batch size\n",
        "        return (margin_loss + 0.0005 * reconstruction_loss) / images.size(0)\n"
      ],
      "execution_count": 0,
      "outputs": []
    },
    {
      "cell_type": "markdown",
      "metadata": {
        "collapsed": true,
        "id": "zjPV9yEv6gFK",
        "colab_type": "text"
      },
      "source": [
        "###### Specify Loss Function and [Optimizer](http://pytorch.org/docs/stable/optim.html)"
      ]
    },
    {
      "cell_type": "code",
      "metadata": {
        "id": "AbKYR_yt6gFM",
        "colab_type": "code",
        "colab": {}
      },
      "source": [
        "import torch.optim as optim\n",
        "\n",
        "# custom loss\n",
        "criterion = CapsuleLoss()\n",
        "\n",
        "# Adam optimizer with default params\n",
        "optimizer = optim.Adam(capsule_net.parameters())"
      ],
      "execution_count": 0,
      "outputs": []
    },
    {
      "cell_type": "markdown",
      "metadata": {
        "collapsed": true,
        "id": "UuRzp5od6gFQ",
        "colab_type": "text"
      },
      "source": [
        "###### Train the Network\n",
        "\n",
        "Steps for training/learning from a batch of data are:\n",
        "1. Clear the gradients of all optimized variables\n",
        "2. Forward pass: compute predicted outputs by passing inputs to the model\n",
        "3. Calculate the loss\n",
        "4. Backward pass: compute gradient of the loss with respect to model parameters\n",
        "5. Perform a single optimization step (parameter update)\n",
        "6. Update average training loss\n",
        "\n",
        "The following loop trains for some number of epochs and prints out the training loss intermittently; take a look at how the values for training loss decrease over time."
      ]
    },
    {
      "cell_type": "code",
      "metadata": {
        "id": "Y_2hO8CX6gFS",
        "colab_type": "code",
        "colab": {}
      },
      "source": [
        "def train(capsule_net, criterion, optimizer, \n",
        "          n_epochs, print_every=300):\n",
        "    '''Trains a capsule network and prints out training batch loss statistics.\n",
        "       Saves model parameters if *validation* loss has decreased.\n",
        "       param capsule_net: trained capsule network\n",
        "       param criterion: capsule loss function\n",
        "       param optimizer: optimizer for updating network weights\n",
        "       param n_epochs: number of epochs to train for\n",
        "       param print_every: batches to print and save training loss, default = 100\n",
        "       return: list of recorded training losses\n",
        "       '''\n",
        "\n",
        "    # track training loss over time\n",
        "    losses = []\n",
        "\n",
        "    # one epoch = one pass over all training data \n",
        "    for epoch in range(1, n_epochs+1):\n",
        "\n",
        "        # initialize training loss\n",
        "        train_loss = 0.0\n",
        "        \n",
        "        capsule_net.train() # set to train mode\n",
        "    \n",
        "        # get batches of training image data and targets\n",
        "        for batch_i, (images, target) in enumerate(train_loader):\n",
        "\n",
        "            # reshape and get target class\n",
        "            target = torch.eye(10).index_select(dim=0, index=target)\n",
        "\n",
        "            if TRAIN_ON_GPU:\n",
        "                images, target = images.cuda(), target.cuda()\n",
        "\n",
        "            # zero out gradients\n",
        "            optimizer.zero_grad()\n",
        "            # get model outputs\n",
        "            caps_output, reconstructions, y = capsule_net(images)\n",
        "            # calculate loss\n",
        "            loss = criterion(caps_output, target, images, reconstructions)\n",
        "            # perform backpropagation and optimization\n",
        "            loss.backward()\n",
        "            optimizer.step()\n",
        "\n",
        "            train_loss += loss.item() # accumulated training loss\n",
        "            \n",
        "            # print and record training stats\n",
        "            if batch_i != 0 and batch_i % print_every == 0:\n",
        "                avg_train_loss = train_loss/print_every\n",
        "                losses.append(avg_train_loss)\n",
        "                print('Epoch: {} \\tTraining Loss: {:.8f}'.format(epoch, avg_train_loss))\n",
        "                train_loss = 0 # reset accumulated training loss\n",
        "        \n",
        "    return losses\n",
        "    "
      ],
      "execution_count": 0,
      "outputs": []
    },
    {
      "cell_type": "code",
      "metadata": {
        "id": "C1pKYmfs6gFX",
        "colab_type": "code",
        "colab": {
          "base_uri": "https://localhost:8080/",
          "height": 476
        },
        "outputId": "0051afc9-48a7-463a-dd31-526d02f28ee0"
      },
      "source": [
        "# training for 3 epochs\n",
        "n_epochs = 3\n",
        "losses = train(capsule_net, criterion, optimizer, n_epochs=n_epochs)"
      ],
      "execution_count": 25,
      "outputs": [
        {
          "output_type": "stream",
          "text": [
            "Epoch: 1 \tTraining Loss: 0.25587060\n",
            "Epoch: 1 \tTraining Loss: 0.09692087\n",
            "Epoch: 1 \tTraining Loss: 0.07513694\n",
            "Epoch: 1 \tTraining Loss: 0.06052724\n",
            "Epoch: 1 \tTraining Loss: 0.05959140\n",
            "Epoch: 1 \tTraining Loss: 0.05330405\n",
            "Epoch: 1 \tTraining Loss: 0.05110107\n",
            "Epoch: 1 \tTraining Loss: 0.05057951\n",
            "Epoch: 1 \tTraining Loss: 0.04902840\n",
            "Epoch: 2 \tTraining Loss: 0.04290178\n",
            "Epoch: 2 \tTraining Loss: 0.04147205\n",
            "Epoch: 2 \tTraining Loss: 0.03618734\n",
            "Epoch: 2 \tTraining Loss: 0.03568669\n",
            "Epoch: 2 \tTraining Loss: 0.03620321\n",
            "Epoch: 2 \tTraining Loss: 0.03449082\n",
            "Epoch: 2 \tTraining Loss: 0.03496416\n",
            "Epoch: 2 \tTraining Loss: 0.03398474\n",
            "Epoch: 2 \tTraining Loss: 0.03342682\n",
            "Epoch: 3 \tTraining Loss: 0.03061324\n",
            "Epoch: 3 \tTraining Loss: 0.03036848\n",
            "Epoch: 3 \tTraining Loss: 0.02780982\n",
            "Epoch: 3 \tTraining Loss: 0.02683991\n",
            "Epoch: 3 \tTraining Loss: 0.02851054\n",
            "Epoch: 3 \tTraining Loss: 0.02641500\n",
            "Epoch: 3 \tTraining Loss: 0.02737026\n",
            "Epoch: 3 \tTraining Loss: 0.02683132\n",
            "Epoch: 3 \tTraining Loss: 0.02616166\n"
          ],
          "name": "stdout"
        }
      ]
    },
    {
      "cell_type": "markdown",
      "metadata": {
        "id": "_NTuzCiY6gFe",
        "colab_type": "text"
      },
      "source": [
        "###### Training loss\n"
      ]
    },
    {
      "cell_type": "code",
      "metadata": {
        "id": "uWxGGRDQ6gFf",
        "colab_type": "code",
        "colab": {
          "base_uri": "https://localhost:8080/",
          "height": 281
        },
        "outputId": "315f42af-a238-4076-93d7-3ca3a1c1c70c"
      },
      "source": [
        "plt.plot(losses)\n",
        "plt.title(\"Training Loss\")\n",
        "plt.show()"
      ],
      "execution_count": 26,
      "outputs": [
        {
          "output_type": "display_data",
          "data": {
            "image/png": "[encoded data removed]",
            "text/plain": [
              "<Figure size 432x288 with 1 Axes>"
            ]
          },
          "metadata": {
            "tags": []
          }
        }
      ]
    },
    {
      "cell_type": "markdown",
      "metadata": {
        "id": "F6NKYFyv6gFi",
        "colab_type": "text"
      },
      "source": [
        "###### Test the Trained Network\n",
        "\n",
        "There are two ways to test the trained model: looking at how it classifies test data, and looking at how its reconstructions compare to original input images.\n",
        "\n",
        "###### Test Data\n",
        "First, We'll test this model on previously unseen **test data** and evaluate its performance. Testing on unseen data is a good way to check that our model generalizes well. It may also be useful to be granular in this analysis and take a look at how this model performs on each class as well as looking at its overall loss and accuracy."
      ]
    },
    {
      "cell_type": "code",
      "metadata": {
        "id": "vWJIjgKt6gFk",
        "colab_type": "code",
        "colab": {}
      },
      "source": [
        "def test(capsule_net, test_loader):\n",
        "    '''Prints out test statistics for a given capsule net.\n",
        "       param capsule_net: trained capsule network\n",
        "       param test_loader: test dataloader\n",
        "       return: returns last batch of test image data and corresponding reconstructions\n",
        "       '''\n",
        "    class_correct = list(0. for i in range(10))\n",
        "    class_total = list(0. for i in range(10))\n",
        "    \n",
        "    test_loss = 0 # loss tracking\n",
        "\n",
        "    capsule_net.eval() # eval mode\n",
        "\n",
        "    for batch_i, (images, target) in enumerate(test_loader):\n",
        "        target = torch.eye(10).index_select(dim=0, index=target)\n",
        "\n",
        "        batch_size = images.size(0)\n",
        "\n",
        "        if TRAIN_ON_GPU:\n",
        "            images, target = images.cuda(), target.cuda()\n",
        "\n",
        "        # forward pass: compute predicted outputs by passing inputs to the model\n",
        "        caps_output, reconstructions, y = capsule_net(images)\n",
        "        # calculate the loss\n",
        "        loss = criterion(caps_output, target, images, reconstructions)\n",
        "        # update average test loss \n",
        "        test_loss += loss.item()\n",
        "        # convert output probabilities to predicted class\n",
        "        _, pred = torch.max(y.data.cpu(), 1)\n",
        "        _, target_shape = torch.max(target.data.cpu(), 1)\n",
        "\n",
        "        # compare predictions to true label\n",
        "        correct = np.squeeze(pred.eq(target_shape.data.view_as(pred)))\n",
        "        # calculate test accuracy for each object class\n",
        "        for i in range(batch_size):\n",
        "            label = target_shape.data[i]\n",
        "            class_correct[label] += correct[i].item()\n",
        "            class_total[label] += 1\n",
        "\n",
        "    # avg test loss\n",
        "    avg_test_loss = test_loss/len(test_loader)\n",
        "    print('Test Loss: {:.8f}\\n'.format(avg_test_loss))\n",
        "\n",
        "    for i in range(10):\n",
        "        if class_total[i] > 0:\n",
        "            print('Test Accuracy of %5s: %2d%% (%2d/%2d)' % (\n",
        "                str(i), 100 * class_correct[i] / class_total[i],\n",
        "                np.sum(class_correct[i]), np.sum(class_total[i])))\n",
        "        else:\n",
        "            print('Test Accuracy of %5s: N/A (no training examples)' % (classes[i]))\n",
        "\n",
        "    print('\\nTest Accuracy (Overall): %2d%% (%2d/%2d)' % (\n",
        "        100. * np.sum(class_correct) / np.sum(class_total),\n",
        "        np.sum(class_correct), np.sum(class_total)))\n",
        "    \n",
        "    # return last batch of capsule vectors, images, reconstructions\n",
        "    return caps_output, images, reconstructions"
      ],
      "execution_count": 0,
      "outputs": []
    },
    {
      "cell_type": "code",
      "metadata": {
        "id": "_QW4Nc6f6gFq",
        "colab_type": "code",
        "colab": {
          "base_uri": "https://localhost:8080/",
          "height": 255
        },
        "outputId": "81b7f333-7939-48ad-f706-7bce28bd355b"
      },
      "source": [
        "# call test function and get reconstructed images\n",
        "caps_output, images, reconstructions = test(capsule_net, test_loader)"
      ],
      "execution_count": 28,
      "outputs": [
        {
          "output_type": "stream",
          "text": [
            "Test Loss: 0.03179285\n",
            "\n",
            "Test Accuracy of     0: 99% (979/980)\n",
            "Test Accuracy of     1: 99% (1132/1135)\n",
            "Test Accuracy of     2: 99% (1027/1032)\n",
            "Test Accuracy of     3: 99% (1001/1010)\n",
            "Test Accuracy of     4: 98% (966/982)\n",
            "Test Accuracy of     5: 99% (887/892)\n",
            "Test Accuracy of     6: 98% (947/958)\n",
            "Test Accuracy of     7: 99% (1019/1028)\n",
            "Test Accuracy of     8: 99% (965/974)\n",
            "Test Accuracy of     9: 98% (996/1009)\n",
            "\n",
            "Test Accuracy (Overall): 99% (9919/10000)\n"
          ],
          "name": "stdout"
        }
      ]
    },
    {
      "cell_type": "markdown",
      "metadata": {
        "collapsed": true,
        "id": "S7wAc4V26gFy",
        "colab_type": "text"
      },
      "source": [
        "###### Display Reconstructions\n",
        "\n",
        "Second,We'll display original images and their reconstructions to see how well the decoder trained."
      ]
    },
    {
      "cell_type": "code",
      "metadata": {
        "id": "nDWiClkK6gFz",
        "colab_type": "code",
        "colab": {}
      },
      "source": [
        "def display_images(images, reconstructions):\n",
        "    '''Plot one row of original MNIST images and another row (below) \n",
        "       of their reconstructions.'''\n",
        "    # convert to numpy images\n",
        "    images = images.data.cpu().numpy()\n",
        "    reconstructions = reconstructions.view(-1, 1, 28, 28)\n",
        "    reconstructions = reconstructions.data.cpu().numpy()\n",
        "    \n",
        "    # plot the first ten input images and then reconstructed images\n",
        "    fig, axes = plt.subplots(nrows=2, ncols=10, sharex=True, sharey=True, figsize=(26,5))\n",
        "\n",
        "    # input images on top row, reconstructions on bottom\n",
        "    for images, row in zip([images, reconstructions], axes):\n",
        "        for img, ax in zip(images, row):\n",
        "            ax.imshow(np.squeeze(img), cmap='gray')\n",
        "            ax.get_xaxis().set_visible(False)\n",
        "            ax.get_yaxis().set_visible(False)"
      ],
      "execution_count": 0,
      "outputs": []
    },
    {
      "cell_type": "code",
      "metadata": {
        "id": "AoxPICUS6gF1",
        "colab_type": "code",
        "colab": {
          "base_uri": "https://localhost:8080/",
          "height": 326
        },
        "outputId": "843a7ed4-b71a-4d45-8023-c1dae51e49d1"
      },
      "source": [
        "# display original and reconstructed images, in rows\n",
        "display_images(images, reconstructions)"
      ],
      "execution_count": 30,
      "outputs": [
        {
          "output_type": "display_data",
          "data": {
            "image/png": "[encoded data removed]",
            "text/plain": [
              "<Figure size 1872x360 with 20 Axes>"
            ]
          },
          "metadata": {
            "tags": []
          }
        }
      ]
    },
    {
      "cell_type": "markdown",
      "metadata": {
        "id": "epnTqW2Z6gF6",
        "colab_type": "text"
      },
      "source": [
        "##### Response to Affine Transformations\n",
        "\n",
        "When compares the performance of a capsule network and a vanilla CNN. One observation is that a capsule network is more robust to affine transformations in data. That is, even when the network is trained on normal MNIST data, if we then translate or rotate some test data, a trained CapsNet will perform better than a vanilla CNN.\n",
        "\n",
        "The process for creating affine-transformed test data is different than mine, but I wanted to see how well my trained capsule network performed on randomly, affine-transformed data. Below, I am applying an affine transformation that will randomly rotate and image between 0-30 degrees as well as vertically/horizontally translate an image by 10% of the total image height/width."
      ]
    },
    {
      "cell_type": "code",
      "metadata": {
        "id": "8QM_UiZ86gF8",
        "colab_type": "code",
        "colab": {}
      },
      "source": [
        "# convert data to Tensor *and* perform random affine transformation\n",
        "transform = transforms.Compose([transforms.RandomAffine(degrees=30, translate=(0.1,0.1)),transforms.ToTensor()])\n",
        "\n",
        "# test dataset\n",
        "transformed_test_data = datasets.MNIST(root='data', train=False,download=True, transform=transform)\n",
        "\n",
        "# prepare data loader\n",
        "transformed_test_loader = torch.utils.data.DataLoader(transformed_test_data, batch_size=batch_size,num_workers=num_workers)"
      ],
      "execution_count": 0,
      "outputs": []
    },
    {
      "cell_type": "markdown",
      "metadata": {
        "id": "PrpUZh_86gGB",
        "colab_type": "text"
      },
      "source": [
        "##### Visualize transformed data"
      ]
    },
    {
      "cell_type": "code",
      "metadata": {
        "id": "UkBvWvTE6gGC",
        "colab_type": "code",
        "colab": {
          "base_uri": "https://localhost:8080/",
          "height": 288
        },
        "outputId": "5ba1a4e7-9479-4e76-f961-8e0a5a5bd1a7"
      },
      "source": [
        "# obtain one batch of test images\n",
        "dataiter = iter(transformed_test_loader)\n",
        "images, labels = dataiter.next()\n",
        "images = images.numpy()\n",
        "\n",
        "# plot the images in the batch, along with the corresponding labels\n",
        "fig = plt.figure(figsize=(25, 4))\n",
        "for idx in np.arange(batch_size):\n",
        "    ax = fig.add_subplot(2, batch_size/2, idx+1, xticks=[], yticks=[])\n",
        "    ax.imshow(np.squeeze(images[idx]), cmap='gray')\n",
        "    # print out the correct label for each image\n",
        "    # .item() gets the value contained in a Tensor\n",
        "    ax.set_title(str(labels[idx].item()))"
      ],
      "execution_count": 32,
      "outputs": [
        {
          "output_type": "display_data",
          "data": {
            "image/png": "[encoded data removed]",
            "text/plain": [
              "<Figure size 1800x288 with 20 Axes>"
            ]
          },
          "metadata": {
            "tags": []
          }
        }
      ]
    },
    {
      "cell_type": "markdown",
      "metadata": {
        "id": "62TNt0Ao6gGG",
        "colab_type": "text"
      },
      "source": [
        "##### Testing on transformed test data"
      ]
    },
    {
      "cell_type": "code",
      "metadata": {
        "id": "kK8OQamR6gGH",
        "colab_type": "code",
        "colab": {
          "base_uri": "https://localhost:8080/",
          "height": 255
        },
        "outputId": "d3300406-bafa-456b-fbd4-a44f775920a7"
      },
      "source": [
        "# call test function and get reconstructed images\n",
        "_, images, reconstructions = test(capsule_net, transformed_test_loader)"
      ],
      "execution_count": 33,
      "outputs": [
        {
          "output_type": "stream",
          "text": [
            "Test Loss: 0.27099145\n",
            "\n",
            "Test Accuracy of     0: 89% (881/980)\n",
            "Test Accuracy of     1: 89% (1015/1135)\n",
            "Test Accuracy of     2: 86% (896/1032)\n",
            "Test Accuracy of     3: 89% (900/1010)\n",
            "Test Accuracy of     4: 78% (772/982)\n",
            "Test Accuracy of     5: 90% (811/892)\n",
            "Test Accuracy of     6: 77% (739/958)\n",
            "Test Accuracy of     7: 78% (807/1028)\n",
            "Test Accuracy of     8: 78% (765/974)\n",
            "Test Accuracy of     9: 81% (820/1009)\n",
            "\n",
            "Test Accuracy (Overall): 84% (8406/10000)\n"
          ],
          "name": "stdout"
        }
      ]
    },
    {
      "cell_type": "code",
      "metadata": {
        "id": "7XyfsxKF6gGK",
        "colab_type": "code",
        "colab": {
          "base_uri": "https://localhost:8080/",
          "height": 326
        },
        "outputId": "9f84d1c9-a9c9-47d9-8ab8-5911e1e5cfc0"
      },
      "source": [
        "# original input images\n",
        "display_images(images, reconstructions)"
      ],
      "execution_count": 34,
      "outputs": [
        {
          "output_type": "display_data",
          "data": {
            "image/png": "[encoded data removed]",
            "text/plain": [
              "<Figure size 1872x360 with 20 Axes>"
            ]
          },
          "metadata": {
            "tags": []
          }
        }
      ]
    },
    {
      "cell_type": "markdown",
      "metadata": {
        "id": "OkRW-0l86gGR",
        "colab_type": "text"
      },
      "source": [
        "##### Capsule Output Vectors\n",
        "\n",
        "Recall that the `DigitCaps` layer outputs vectors of dim 16. It turns out that some of these vector dimensions have learned something about the features that make up each digit.\n",
        "\n",
        "Their method was to compute the output vector for a \"correct\" digit capsule and then modify each of the 16 vector dimensions by *perturbing* it; adding some small value in a range `[-0.25, 0.25]` by a factor of `0.05`. I try to replicate this experiment below, to see if I can find a certain vector dimension that corresponds to digit width, line-width, skew, or certain localized features!"
      ]
    },
    {
      "cell_type": "code",
      "metadata": {
        "id": "BPq4sLaB6gGS",
        "colab_type": "code",
        "colab": {}
      },
      "source": [
        "def vector_analysis(capsule_net, x, select_idx=1):\n",
        "    '''Generates perturbed iage reconstructions given some digit capsule outputs.\n",
        "       param capsule_net: trained capsule network\n",
        "       param x: a batch of digit capsule outputs\n",
        "       param select_idx: selects which image in a batch to analyze, default = 1 \n",
        "       return: list of perturbed, reconstructed images\n",
        "       '''\n",
        "    \n",
        "    classes = (x ** 2).sum(dim=-1) ** 0.5\n",
        "    classes = F.softmax(classes, dim=-1)\n",
        "\n",
        "    # find the capsule with the maximum vector length\n",
        "    # here, vector length indicates the probability of a class' existence\n",
        "    _, max_length_indices = classes.max(dim=1)\n",
        "\n",
        "    # create a sparse class matrix\n",
        "    sparse_matrix = torch.eye(10) # 10 is the number of classes\n",
        "    if TRAIN_ON_GPU:\n",
        "        sparse_matrix = sparse_matrix.cuda()\n",
        "    # get the class scores from the \"correct\" capsule\n",
        "    y = sparse_matrix.index_select(dim=0, index=max_length_indices.data)\n",
        "\n",
        "    # create reconstructed pixels\n",
        "    x = x * y[:, :, None]\n",
        "    \n",
        "    # flatten image into a vector shape (batch_size, vector_dim)\n",
        "    flattened_x = x.contiguous().view(x.size(0), -1)\n",
        "    # select a single image from a batch to work with\n",
        "    flattened_x = flattened_x[select_idx]\n",
        "    \n",
        "    # track reconstructed images\n",
        "    reconstructed_ims = []\n",
        "    # values to change *one* vector dimension by\n",
        "    perturb_range = np.arange(-0.25, 0.30, 0.05)\n",
        "    \n",
        "    # iterate through 16 vector dims\n",
        "    for k in range(16):\n",
        "        # create a copy of flattened_x to modify\n",
        "        transformed_x = torch.zeros(*flattened_x.size()).cuda()\n",
        "        transformed_x[:] = flattened_x[:]\n",
        "        # iterate through each perturbation value\n",
        "        for j in range(len(perturb_range)):\n",
        "            # for each capsule output\n",
        "            for i in range(10):\n",
        "                transformed_x[k+(16*i)] = flattened_x[k+(16*i)]+perturb_range[j]\n",
        "\n",
        "            # create reconstructed images\n",
        "            reconstructions = capsule_net.decoder.linear_layers(transformed_x)\n",
        "            # reshape into 28x28 image, (batch_size, depth, x, y)\n",
        "            reconstructions = reconstructions.view(-1, 1, 28, 28)\n",
        "            reconstructed_ims.append(reconstructions)\n",
        "    \n",
        "    # return final list of reconstructed ims    \n",
        "    return reconstructed_ims\n",
        "        "
      ],
      "execution_count": 0,
      "outputs": []
    },
    {
      "cell_type": "code",
      "metadata": {
        "id": "-ZKfSP7v6gGV",
        "colab_type": "code",
        "colab": {}
      },
      "source": [
        "# call function and get perturbed reconstructions\n",
        "reconstructed_ims = vector_analysis(capsule_net, caps_output, select_idx=1)"
      ],
      "execution_count": 0,
      "outputs": []
    },
    {
      "cell_type": "markdown",
      "metadata": {
        "id": "M2oBME7a6gGX",
        "colab_type": "text"
      },
      "source": [
        "##### Display the reconstructions\n",
        "\n",
        "The center image should be the original reconstruction; the five images to the left have negative perturbations and to the right there are 5 images with positive perturbations. \n",
        "\n",
        "* There are 16 rows of images, one for each of the vector dimensions\n",
        "* There are 11 images per row, one for each of the values in `perturb_range` defined above\n",
        "\n",
        "You should see that certain vector dims correspond to certain image properties; line width, skew, localized features, and so on! If you are running this code locally, I'd encourage you to try thin on a different image in a batch (using a different `select_idx`) and checkout the results."
      ]
    },
    {
      "cell_type": "code",
      "metadata": {
        "id": "w0ZEs_aW6gGY",
        "colab_type": "code",
        "colab": {
          "base_uri": "https://localhost:8080/",
          "height": 1000
        },
        "outputId": "695ccc9b-b35b-4959-d2b3-2bb58f3717a1"
      },
      "source": [
        "fig = plt.figure(figsize=(10, 20)) # define figsize\n",
        "\n",
        "# display all ims\n",
        "for idx in range(len(reconstructed_ims)):\n",
        "    # convert to numpy images\n",
        "    image = reconstructed_ims[idx]\n",
        "    image = image.detach().cpu().numpy()\n",
        "    # display 16 rows of images\n",
        "    ax = fig.add_subplot(16, len(reconstructed_ims)/16, idx+1, xticks=[], yticks=[])\n",
        "    ax.imshow(image.squeeze(), cmap='gray')\n",
        "    "
      ],
      "execution_count": 39,
      "outputs": [
        {
          "output_type": "display_data",
          "data": {
            "image/png": "[encoded data removed]",
            "text/plain": [
              "<Figure size 720x1440 with 176 Axes>"
            ]
          },
          "metadata": {
            "tags": []
          }
        }
      ]
    },
    {
      "cell_type": "code",
      "metadata": {
        "id": "aSMsjr7T6gGd",
        "colab_type": "code",
        "colab": {}
      },
      "source": [
        ""
      ],
      "execution_count": 0,
      "outputs": []
    }
  ]
}